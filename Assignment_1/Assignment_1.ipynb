{
 "cells": [
  {
   "cell_type": "markdown",
   "metadata": {},
   "source": [
    "Create a Numpy Array containing numbers from 1 to 64\n",
    "- Plot the array as a line plot using matplotlib\n",
    "- Change the created array dimensions to 8 x 8\n",
    "    "
   ]
  },
  {
   "cell_type": "code",
   "execution_count": 25,
   "metadata": {},
   "outputs": [
    {
     "name": "stdout",
     "output_type": "stream",
     "text": [
      "[ 1  2  3  4  5  6  7  8  9 10 11 12 13 14 15 16 17 18 19 20 21 22 23 24\n",
      " 25 26 27 28 29 30 31 32 33 34 35 36 37 38 39 40 41 42 43 44 45 46 47 48\n",
      " 49 50 51 52 53 54 55 56 57 58 59 60 61 62 63 64]\n",
      "[[ 1  2  3  4  5  6  7  8]\n",
      " [ 9 10 11 12 13 14 15 16]\n",
      " [17 18 19 20 21 22 23 24]\n",
      " [25 26 27 28 29 30 31 32]\n",
      " [33 34 35 36 37 38 39 40]\n",
      " [41 42 43 44 45 46 47 48]\n",
      " [49 50 51 52 53 54 55 56]\n",
      " [57 58 59 60 61 62 63 64]]\n"
     ]
    },
    {
     "data": {
      "image/png": "[encoded data removed]",
      "text/plain": "<Figure size 432x288 with 1 Axes>"
     },
     "metadata": {
      "needs_background": "light",
      "transient": {}
     },
     "output_type": "display_data"
    }
   ],
   "source": [
    "import numpy as np\n",
    "import matplotlib.pyplot as plt\n",
    "\n",
    "#Create a Numpy Array containing numbers from 1 to 64\n",
    "a = np.arange(1, 65)\n",
    "\n",
    "print(a)\n",
    "\n",
    "# Plot the array as a line plot using matplotlib\n",
    "plt.plot(a)\n",
    "plt.show()\n",
    "\n",
    "# Change the created array dimensions to 8 x 8\n",
    "b = np.reshape(a, (8, 8))\n",
    "print(b)\n"
   ]
  },
  {
   "cell_type": "markdown",
   "metadata": {},
   "source": [
    "What happens if you:\n",
    "\n",
    "- Change the 8x8 matrix shape to (2, 4)?\n",
    "- Change the 8x8 matrix shape to (4, 2)?\n",
    "- Change the 8x8 matrix shape to (3, 3)?\n",
    "- Change the 8x8 matrix shape to (2, 2, 2)?\n",
    "- Change the 8x8 matrix shape to (2, -1, 2)?"
   ]
  },
  {
   "cell_type": "code",
   "execution_count": 26,
   "metadata": {},
   "outputs": [
    {
     "name": "stdout",
     "output_type": "stream",
     "text": [
      "Reshape to (2, 4): Incompatible matrics sizes\n",
      "Reshape to (4, 2): Incompatible matrics sizes\n",
      "Reshape to (3, 3): Incompatible matrics sizes\n",
      "Reshape to (2, 2, 2): Incompatible matrics sizes\n",
      "Reshape to (2, -1, 2):\n",
      " [[[ 1  2]\n",
      "  [ 3  4]\n",
      "  [ 5  6]\n",
      "  [ 7  8]\n",
      "  [ 9 10]\n",
      "  [11 12]\n",
      "  [13 14]\n",
      "  [15 16]\n",
      "  [17 18]\n",
      "  [19 20]\n",
      "  [21 22]\n",
      "  [23 24]\n",
      "  [25 26]\n",
      "  [27 28]\n",
      "  [29 30]\n",
      "  [31 32]]\n",
      "\n",
      " [[33 34]\n",
      "  [35 36]\n",
      "  [37 38]\n",
      "  [39 40]\n",
      "  [41 42]\n",
      "  [43 44]\n",
      "  [45 46]\n",
      "  [47 48]\n",
      "  [49 50]\n",
      "  [51 52]\n",
      "  [53 54]\n",
      "  [55 56]\n",
      "  [57 58]\n",
      "  [59 60]\n",
      "  [61 62]\n",
      "  [63 64]]]\n"
     ]
    }
   ],
   "source": [
    "# Change the 8x8 matrix shape to (2, 4)?\n",
    "# two_by_four = np.reshape(b, (2, 4))\n",
    "# print(two_by_four)\n",
    "\n",
    "print(\"Reshape to (2, 4): Incompatible matrics sizes\")\n",
    "\n",
    "# Change the 8x8 matrix shape to (4, 2)?\n",
    "# four_by_two = np.reshape(b, (4, 2))\n",
    "# print(four_by_two)\n",
    "print(\"Reshape to (4, 2): Incompatible matrics sizes\")\n",
    "\n",
    "# Change the 8x8 matrix shape to (3, 3)?\n",
    "# three_by_three = np.reshape(b, (3, 3))\n",
    "# print(three_by_three)\n",
    "print(\"Reshape to (3, 3): Incompatible matrics sizes\")\n",
    "\n",
    "# Change the 8x8 matrix shape to (2, 2, 2)?\n",
    "# two_by_two_by_two = np.reshape(b, (2, 2, 2))\n",
    "# print(two_by_two_by_two)\n",
    "print(\"Reshape to (2, 2, 2): Incompatible matrics sizes\")\n",
    "\n",
    "# Change the 8x8 matrix shape to (2, -1, 2)?\n",
    "two_by_minus_one_by_two = np.reshape(b, (2, -1, 2))\n",
    "print(\"Reshape to (2, -1, 2):\\n\",two_by_minus_one_by_two)\n"
   ]
  },
  {
   "cell_type": "markdown",
   "metadata": {},
   "source": [
    "Create a new array containing numbers from 0-7\n",
    "- What is the shape of the array?\n",
    "- What happens if you add the array to the 8x8 matrix?\n",
    "- What happens if you resize the array to (1, 8) and add to the 8x8 matrix?\n",
    "- What happens if you resize the array to (8, 1) and add to the 8x8 matrix? (Hint:- You may want to look at Broadcasting)\n",
    "- Write your findings and observations down in the cell below\n"
   ]
  },
  {
   "cell_type": "code",
   "execution_count": 27,
   "metadata": {},
   "outputs": [
    {
     "name": "stdout",
     "output_type": "stream",
     "text": [
      "np.array [0 1 2 3 4 5 6 7] Shape: (8,)\n",
      "\n",
      "1. Added: \n",
      " [[ 1  3  5  7  9 11 13 15]\n",
      " [ 9 11 13 15 17 19 21 23]\n",
      " [17 19 21 23 25 27 29 31]\n",
      " [25 27 29 31 33 35 37 39]\n",
      " [33 35 37 39 41 43 45 47]\n",
      " [41 43 45 47 49 51 53 55]\n",
      " [49 51 53 55 57 59 61 63]\n",
      " [57 59 61 63 65 67 69 71]]\n",
      "\n",
      "2. Resized to (1, 8) and added: \n",
      " [[ 1  3  5  7  9 11 13 15]\n",
      " [ 9 11 13 15 17 19 21 23]\n",
      " [17 19 21 23 25 27 29 31]\n",
      " [25 27 29 31 33 35 37 39]\n",
      " [33 35 37 39 41 43 45 47]\n",
      " [41 43 45 47 49 51 53 55]\n",
      " [49 51 53 55 57 59 61 63]\n",
      " [57 59 61 63 65 67 69 71]]\n",
      "\n",
      "3. Resized to (8, 1) and added: \n",
      " [[ 1  2  3  4  5  6  7  8]\n",
      " [10 11 12 13 14 15 16 17]\n",
      " [19 20 21 22 23 24 25 26]\n",
      " [28 29 30 31 32 33 34 35]\n",
      " [37 38 39 40 41 42 43 44]\n",
      " [46 47 48 49 50 51 52 53]\n",
      " [55 56 57 58 59 60 61 62]\n",
      " [64 65 66 67 68 69 70 71]]\n",
      "\n",
      "1. Addition converts (8,) into (8, 1) and adds\n",
      "2. Resizing to (1, 8) and addition resizes and adds i.e. row-wise addition\n",
      "3. Resizing to (8, 1) broadcasts (8, 1) into (8, 8) and adds i.e column-wise addition\n"
     ]
    }
   ],
   "source": [
    "# Create a new array containing numbers from 0-7\n",
    "num = np.arange(8)\n",
    "\n",
    "# What is the shape of the array?\n",
    "print(\"np.array\", num, \"Shape:\", num.shape)\n",
    "print()\n",
    "\n",
    "# What happens if you add the array to the 8x8 matrix?\n",
    "print(\"1. Added: \\n\", np.add(b, num))\n",
    "print()\n",
    "\n",
    "# What happens if you resize the array to (1, 8) and add to the 8x8 matrix?\n",
    "print(\"2. Resized to (1, 8) and added: \\n\", np.add(np.reshape(num, (1, 8)), b))\n",
    "print()\n",
    "\n",
    "# What happens if you resize the array to (8, 1) and add to the 8x8 matrix?\n",
    "print(\"3. Resized to (8, 1) and added: \\n\", np.add(np.reshape(num, (8, 1)), b))\n",
    "print()\n",
    "\n",
    "print(\"1. Addition converts (8,) into (8, 1) and adds\")\n",
    "print(\"2. Resizing to (1, 8) and addition resizes and adds i.e. row-wise addition\")\n",
    "print(\"3. Resizing to (8, 1) broadcasts (8, 1) into (8, 8) and adds i.e column-wise addition\")"
   ]
  },
  {
   "cell_type": "markdown",
   "metadata": {},
   "source": [
    "Create a matrix containing random numbers of size 4x4\n",
    "- Pad the matrix with zeros to create a matrix of size 6x6\n",
    "- Write to crop the 6x6 matrix back into the original 4x4 matrix (Numpy array indexing may be useful?)\n"
   ]
  },
  {
   "cell_type": "code",
   "execution_count": 28,
   "metadata": {},
   "outputs": [
    {
     "name": "stdout",
     "output_type": "stream",
     "text": [
      "[[ 0  1  2  3]\n",
      " [ 4  5  6  7]\n",
      " [ 8  9 10 11]\n",
      " [12 13 14 15]]\n",
      "[[ 0  0  0  0  0  0]\n",
      " [ 0  0  1  2  3  0]\n",
      " [ 0  4  5  6  7  0]\n",
      " [ 0  8  9 10 11  0]\n",
      " [ 0 12 13 14 15  0]\n",
      " [ 0  0  0  0  0  0]]\n",
      "[[ 0  1  2  3]\n",
      " [ 4  5  6  7]\n",
      " [ 8  9 10 11]\n",
      " [12 13 14 15]]\n"
     ]
    }
   ],
   "source": [
    "# Create a matrix containing random numbers of size 4x4\n",
    "four_by_four = np.reshape(np.arange(16), (4, 4))\n",
    "print(four_by_four)\n",
    "\n",
    "# Pad the matrix with zeros to create a matrix of size 6x6\n",
    "six_by_six = np.pad(four_by_four, 1)\n",
    "print(six_by_six)\n",
    "\n",
    "# Write to crop the 6x6 matrix back into the original 4x4 matrix\n",
    "four_by_four = six_by_six[1:-1, 1:-1]\n",
    "print(four_by_four)\n"
   ]
  },
  {
   "cell_type": "markdown",
   "metadata": {},
   "source": [
    "Learn about vectorization of matrix operations in numpy"
   ]
  },
  {
   "cell_type": "markdown",
   "metadata": {},
   "source": [
    "Create two matrices of shape (2, 4) and perform the following, if possible:\n",
    "- Element wise multiplication\n",
    "- How to transpose the matrix?\n",
    "- Can they be multiplied together (matrix multiplication)? If yes, perform the multiplication, else show a way to multiply the matrices together.\n"
   ]
  },
  {
   "cell_type": "code",
   "execution_count": 29,
   "metadata": {},
   "outputs": [
    {
     "name": "stdout",
     "output_type": "stream",
     "text": [
      "[[0 1 2 3]\n",
      " [4 5 6 7]]\n",
      "[[ 8  9 10 11]\n",
      " [12 13 14 15]]\n",
      "\n",
      "[[  0   9  20  33]\n",
      " [ 48  65  84 105]]\n",
      "\n",
      "[[0 4]\n",
      " [1 5]\n",
      " [2 6]\n",
      " [3 7]]\n",
      "[[ 8 12]\n",
      " [ 9 13]\n",
      " [10 14]\n",
      " [11 15]]\n",
      "\n",
      "[[ 48  52  56  60]\n",
      " [ 68  74  80  86]\n",
      " [ 88  96 104 112]\n",
      " [108 118 128 138]]\n"
     ]
    }
   ],
   "source": [
    "# Create two matrices of shape (2, 4)\n",
    "x = np.reshape(np.arange(8), (2, 4))\n",
    "y = np.reshape(np.arange(8, 16), (2, 4))\n",
    "print(x)\n",
    "print(y)\n",
    "print()\n",
    "\n",
    "# Element wise multiplication\n",
    "print(np.multiply(x, y))\n",
    "print()\n",
    "\n",
    "# How to transpose the matrix?\n",
    "print(x.T)\n",
    "print(y.T)\n",
    "print()\n",
    "\n",
    "# Can they be multiplied together (matrix multiplication)? If yes, perform the multiplication, else show a way to multiply the matrices together.\n",
    "print(np.matmul(x.T, y))"
   ]
  },
  {
   "cell_type": "markdown",
   "metadata": {},
   "source": [
    "Create the matrix shown below:\n",
    "\n",
    "[[12, 20, 30, 0]\n",
    "\n",
    " [8, 12, 2, 0]\n",
    " \n",
    " [34, 70, 37, 4]\n",
    " \n",
    " [112, 100, 25, 12]]\n",
    "\n",
    "- Slice the array to obtain subarrays shown in each color\n",
    "\n",
    "- Perform the following operations:\n",
    "    - Sum the array column wise (Read about axis in numpy)\n",
    "    - Sum the array row wise\n",
    "    - Find maximum element for each column\n",
    "    - Find maximum element for each row\n",
    "    - Find the mean across each column\n",
    "    - Find the mean across each row\n",
    "    - Change the datatype of the array to : int, float and object"
   ]
  },
  {
   "cell_type": "code",
   "execution_count": 30,
   "metadata": {},
   "outputs": [
    {
     "name": "stdout",
     "output_type": "stream",
     "text": [
      "[[ 12  20  30   0]\n",
      " [  8  12   2   0]\n",
      " [ 34  70  37   4]\n",
      " [112 100  25  12]]\n",
      "\n",
      "Array 1:\n",
      "[[12 20]\n",
      " [ 8 12]]\n",
      "\n",
      "Array 2:\n",
      "[[30  0]\n",
      " [ 2  0]]\n",
      "\n",
      "Array 3:\n",
      "[[ 34  70]\n",
      " [112 100]]\n",
      "\n",
      "Array 4:\n",
      "[[37  4]\n",
      " [25 12]]\n",
      "\n"
     ]
    }
   ],
   "source": [
    "# Create the matrix shown below:\n",
    "arr = np.array([[12, 20, 30, 0],\n",
    "                [8, 12, 2, 0],\n",
    "                [34, 70, 37, 4],\n",
    "                [112, 100, 25, 12]])\n",
    "\n",
    "print(arr)\n",
    "print()\n",
    "\n",
    "# Slice the array to obtain subarrays shown in each color\n",
    "arr1 = arr[:2,:2]\n",
    "print(\"Array 1:\")\n",
    "print(arr1)\n",
    "print()\n",
    "\n",
    "arr2 =  arr[:2, 2:]\n",
    "print(\"Array 2:\")\n",
    "print(arr2)\n",
    "print()\n",
    "\n",
    "arr3 =  arr[2:, :2]\n",
    "print(\"Array 3:\")\n",
    "print(arr3)\n",
    "print()\n",
    "\n",
    "arr4 =  arr[2:, 2:]\n",
    "print(\"Array 4:\")\n",
    "print(arr4)\n",
    "print()\n"
   ]
  },
  {
   "cell_type": "markdown",
   "metadata": {},
   "source": [
    "- Find the:\n",
    "    - unique elements in the array\n",
    "    - Number of unique elements\n",
    "    - The maximum element\n",
    "    - The minimum element\n",
    "    - The index of the maximum element\n",
    "    - The index of the minimum element\n",
    "    - The mean of the array\n",
    "    - The standard deviation"
   ]
  },
  {
   "cell_type": "code",
   "execution_count": 31,
   "metadata": {},
   "outputs": [
    {
     "name": "stdout",
     "output_type": "stream",
     "text": [
      "Unique element:  [  0   2   4   8  12  20  25  30  34  37  70 100 112]  with count:  [2 1 1 1 3 1 1 1 1 1 1 1 1]\n",
      "\n",
      "Max: 112  at index (array([3]), array([0])) and min 0  at index (array([0, 1]), array([3, 3]))\n",
      "\n",
      "Mean is:  29.875 and sd is:  33.66169001996186\n",
      "\n",
      "Add along col: [166 202  94  16] and along row is: [ 62  22 145 249]\n",
      "\n",
      "Max along col 1 is: 112 ,along col 2 is: 100 ,along col 3 is: 37 ,along col 4 is: 12\n",
      "Max along row 1 is: 30 ,along row 2 is: 12 ,along row 3 is: 112 ,along row 4 is: 112\n",
      "\n",
      "Mean along col 1 is: 41.5 , along col 2 is: 50.5 , along col 3 is: 23.5 , along col 4 is: 4.0\n",
      "Mean along row 1 is: 15.5 , along row 2 is: 5.5 , along row 3 is: 36.25 , along row 4 is: 62.25\n",
      "\n",
      "Type int\n",
      " [[ 12  20  30   0]\n",
      " [  8  12   2   0]\n",
      " [ 34  70  37   4]\n",
      " [112 100  25  12]] \n",
      "type float\n",
      " [[ 12.  20.  30.   0.]\n",
      " [  8.  12.   2.   0.]\n",
      " [ 34.  70.  37.   4.]\n",
      " [112. 100.  25.  12.]] \n",
      "type obj\n",
      " [[12 20 30 0]\n",
      " [8 12 2 0]\n",
      " [34 70 37 4]\n",
      " [112 100 25 12]]\n"
     ]
    }
   ],
   "source": [
    "# Find the:\n",
    "#     unique elements in the array\n",
    "#     Number of unique elements\n",
    "\n",
    "unique, count = np.unique(arr, return_counts=True)\n",
    "print(\"Unique element: \", unique, \" with count: \", count)\n",
    "print()\n",
    "\n",
    "# The maximum element\n",
    "# The minimum element\n",
    "# The index of the maximum element\n",
    "# The index of the minimum element\n",
    "\n",
    "maxi = np.max(arr)\n",
    "mini = np.min(arr)\n",
    "print(\"Max:\", maxi,\" at index\", np.where(arr == maxi) ,\"and min\", mini,\" at index\", np.where(arr == mini))\n",
    "print()\n",
    "\n",
    "# The mean of the array\n",
    "# The standard deviation\n",
    "mean = np.mean(arr)\n",
    "sd = np.std(arr)\n",
    "print(\"Mean is: \", mean, \"and sd is: \", sd)\n",
    "print()\n",
    "\n",
    "# Perform the following operations:\n",
    "#     Sum the array column wise (Read about axis in numpy)\n",
    "#     Sum the array row wise\n",
    "\n",
    "add1 = np.sum(arr, axis=0)\n",
    "add2 = np.sum(arr, axis=1)\n",
    "print(\"Add along col:\", add1, \"and along row is:\", add2)\n",
    "print()\n",
    "\n",
    "#     Find maximum element for each column\n",
    "#     Find maximum element for each row\n",
    "\n",
    "max_col_1 = np.max(arr[:,0])\n",
    "max_col_2 = np.max(arr[:,1])\n",
    "max_col_3 = np.max(arr[:,2])\n",
    "max_col_4 = np.max(arr[:,3])\n",
    "\n",
    "max_row_1 = np.max(arr[0])\n",
    "max_row_2 = np.max(arr[1])\n",
    "max_row_3 = np.max(arr[2])\n",
    "max_row_4 = np.max(arr[3])\n",
    "\n",
    "print(\"Max along col 1 is:\", max_col_1,\",along col 2 is:\",max_col_2,\",along col 3 is:\",max_col_3,\",along col 4 is:\",max_col_4)\n",
    "print(\"Max along row 1 is:\", max_row_1,\",along row 2 is:\",max_row_2,\",along row 3 is:\",max_row_4,\",along row 4 is:\",max_row_4)\n",
    "\n",
    "print()\n",
    "\n",
    "#     Find the mean across each column\n",
    "#     Find the mean across each row\n",
    "\n",
    "mean_col_1 = np.mean(arr[:,0])\n",
    "mean_col_2 = np.mean(arr[:,1])\n",
    "mean_col_3 = np.mean(arr[:,2])\n",
    "mean_col_4 = np.mean(arr[:,3])\n",
    "\n",
    "mean_row_1 = np.mean(arr[0])\n",
    "mean_row_2 = np.mean(arr[1])\n",
    "mean_row_3 = np.mean(arr[2])\n",
    "mean_row_4 = np.mean(arr[3])\n",
    "\n",
    "print(\"Mean along col 1 is:\", mean_col_1,\", along col 2 is:\",mean_col_2,\", along col 3 is:\",mean_col_3,\", along col 4 is:\",mean_col_4)\n",
    "print(\"Mean along row 1 is:\", mean_row_1,\", along row 2 is:\",mean_row_2,\", along row 3 is:\",mean_row_3,\", along row 4 is:\",mean_row_4)\n",
    "print()\n",
    "\n",
    "#     Change the datatype of the array to : int, float and object\n",
    "\n",
    "type_int = arr.astype(int)\n",
    "type_float = arr.astype(float)\n",
    "type_obj = arr.astype(object)\n",
    "\n",
    "print(\"Type int\\n\", type_int, \"\\ntype float\\n\", type_float, \"\\ntype obj\\n\", type_obj)"
   ]
  },
  {
   "cell_type": "markdown",
   "metadata": {},
   "source": [
    "Considering that the rows represent each data point and columns represent the features which we will feed to a ML model, perform the following feature scaling operations (without SKLearn):\n",
    "- Normalization\n",
    "- Standardization"
   ]
  },
  {
   "cell_type": "code",
   "execution_count": 32,
   "metadata": {},
   "outputs": [
    {
     "name": "stdout",
     "output_type": "stream",
     "text": [
      "[[-0.15959821 -0.08816964  0.00111607 -0.26674107]\n",
      " [-0.1953125  -0.15959821 -0.24888393 -0.26674107]\n",
      " [ 0.03683036  0.35825893  0.06361607 -0.23102679]\n",
      " [ 0.73325893  0.62611607 -0.04352679 -0.15959821]]\n",
      "\n",
      "[[-0.53101909 -0.2933602   0.00371342 -0.88750743]\n",
      " [-0.64984854 -0.53101909 -0.82809271 -0.88750743]\n",
      " [ 0.12254287  1.19200789  0.21166495 -0.76867798]\n",
      " [ 2.43971708  2.08322874 -0.14482339 -0.53101909]]\n",
      "\n"
     ]
    }
   ],
   "source": [
    "# Normalization\n",
    "\n",
    "norm_arr = (arr - mean) / (maxi - mini)\n",
    "print(norm_arr)\n",
    "print()\n",
    "\n",
    "# Standardization\n",
    "standard_arr = (arr - mean) / sd\n",
    "print(standard_arr)\n",
    "print()"
   ]
  },
  {
   "cell_type": "markdown",
   "metadata": {},
   "source": [
    "- Load an image using opencv, which gives you a numpy array and inspect its shape. Interpret the shape of the array.\n",
    "    - Plot each color channel individually using matplotlib\n"
   ]
  },
  {
   "cell_type": "code",
   "execution_count": 33,
   "metadata": {},
   "outputs": [
    {
     "name": "stdout",
     "output_type": "stream",
     "text": [
      "The image's shape is: (605, 1451, 3) where the resolution of image is 605 (hor)x 1451 (ver) and has  3 color channels\n"
     ]
    },
    {
     "data": {
      "text/plain": "<matplotlib.image.AxesImage at 0x7f6ddc637670>"
     },
     "execution_count": 33,
     "metadata": {},
     "output_type": "execute_result"
    },
    {
     "data": {
      "image/png": "[encoded data removed]",
      "text/plain": "<Figure size 432x288 with 4 Axes>"
     },
     "metadata": {
      "needs_background": "light",
      "transient": {}
     },
     "output_type": "display_data"
    }
   ],
   "source": [
    "import cv2\n",
    "\n",
    "# Load image\n",
    "img = cv2.imread('UJT.jpg')\n",
    "\n",
    "# Inspect Shape\n",
    "print(\"The image's shape is:\",img.shape, \"where the resolution of image is\", img.shape[0],\"(hor)x\", img.shape[1],\"(ver) and has \", img.shape[2], \"color channels\")\n",
    "\n",
    "# Plot each color channel individually using matplotlib\n",
    "fig, ax = plt.subplots(2, 2)\n",
    "\n",
    "plt.subplot(2, 2, 1)\n",
    "plt.imshow(img)\n",
    "\n",
    "plt.subplot(2, 2, 2)\n",
    "plt.imshow(img[:,:,0])\n",
    "\n",
    "plt.subplot(2, 2, 3)\n",
    "plt.imshow(img[:,:,1])\n",
    "\n",
    "plt.subplot(2, 2, 4)\n",
    "plt.imshow(img[:,:,2])"
   ]
  },
  {
   "cell_type": "markdown",
   "metadata": {},
   "source": [
    "- Create a 3d matrix with 1s in the diagonal, 0 in all other positions"
   ]
  },
  {
   "cell_type": "code",
   "execution_count": 34,
   "metadata": {},
   "outputs": [
    {
     "name": "stdout",
     "output_type": "stream",
     "text": [
      "[[[1. 0. 0.]\n",
      "  [0. 0. 0.]\n",
      "  [0. 0. 0.]]\n",
      "\n",
      " [[0. 0. 0.]\n",
      "  [0. 1. 0.]\n",
      "  [0. 0. 0.]]\n",
      "\n",
      " [[0. 0. 0.]\n",
      "  [0. 0. 0.]\n",
      "  [0. 0. 1.]]]\n"
     ]
    }
   ],
   "source": [
    "# Create a 3d matrix with 1s in the diagonal, 0 in all other positions\n",
    "layer1 = np.zeros((3, 3))\n",
    "layer2 = np.zeros((3, 3))\n",
    "layer3 = np.zeros((3, 3))\n",
    "\n",
    "layer1[0,0]=1\n",
    "layer2[1,1]=1\n",
    "layer3[2,2]=1\n",
    "\n",
    "array_3d = np.array([layer1, layer2, layer3])\n",
    "print(array_3d)"
   ]
  },
  {
   "cell_type": "markdown",
   "metadata": {},
   "source": [
    "- Implement 1d convolution in numpy. Given any (1, n) shape array, it should perform convolution with a given (1, m) array\n"
   ]
  },
  {
   "cell_type": "code",
   "execution_count": 35,
   "metadata": {},
   "outputs": [
    {
     "name": "stdout",
     "output_type": "stream",
     "text": [
      "[  0   9  28  58 100 142 184 226 268 229 172  96]\n"
     ]
    }
   ],
   "source": [
    "# Implement 1d convolution in numpy. Given any (1, n) shape array, it should perform convolution with a given (1, m) array\n",
    "\n",
    "a = (np.arange(9)).reshape(1, 9)\n",
    "b = (np.arange(9, 13)).reshape(1, 4)\n",
    "\n",
    "c = np.convolve(a[0],b[0])\n",
    "print(c)\n"
   ]
  },
  {
   "cell_type": "markdown",
   "metadata": {},
   "source": [
    "- Implement 2d convolution in numpy. And show the output before and after convolution on any image."
   ]
  },
  {
   "cell_type": "code",
   "execution_count": 60,
   "metadata": {},
   "outputs": [
    {
     "data": {
      "text/plain": "<matplotlib.image.AxesImage at 0x7f6dd7b8f040>"
     },
     "execution_count": 60,
     "metadata": {},
     "output_type": "execute_result"
    },
    {
     "data": {
      "image/png": "[encoded data removed]",
      "text/plain": "<Figure size 432x288 with 2 Axes>"
     },
     "metadata": {
      "needs_background": "light",
      "transient": {}
     },
     "output_type": "display_data"
    }
   ],
   "source": [
    "# Implement 2d convolution in numpy. And show the output before and after convolution on any image.\n",
    "k = np.array([[-1, -1, -1],\n",
    "              [-1, 8, -1],\n",
    "              [-1, -1, -1]])\n",
    "\n",
    "k = np.flipud(np.fliplr(k))\n",
    "\n",
    "gray = cv2.cvtColor(img, cv2.COLOR_BGR2GRAY)\n",
    "_, gray = cv2.threshold(gray, 127, 255, cv2.THRESH_BINARY)\n",
    "output = gray\n",
    "\n",
    "fig, ax = plt.subplots(2, 1)\n",
    "\n",
    "plt.subplot(2, 1, 1)\n",
    "plt.imshow(gray, cmap='gray', vmin=0, vmax=255)\n",
    "\n",
    "for y in range(gray.shape[1]):\n",
    "    if y > gray.shape[1] - k.shape[1]:\n",
    "        break\n",
    "    for x in range(gray.shape[0]):\n",
    "        if x > gray.shape[0] - k.shape[0]:\n",
    "            break\n",
    "        output[x, y] = (k * gray[x: x + k.shape[0], y: y + k.shape[1]]).sum()\n",
    "            \n",
    "plt.subplot(2, 1, 2)\n",
    "plt.imshow(output, cmap='gray', vmin=0, vmax=255)\n"
   ]
  },
  {
   "cell_type": "code",
   "execution_count": null,
   "metadata": {},
   "outputs": [],
   "source": []
  }
 ],
 "metadata": {
  "kernelspec": {
   "display_name": "Python 3",
   "language": "python",
   "name": "python3"
  },
  "language_info": {
   "codemirror_mode": {
    "name": "ipython",
    "version": 3
   },
   "file_extension": ".py",
   "mimetype": "text/x-python",
   "name": "python",
   "nbconvert_exporter": "python",
   "pygments_lexer": "ipython3",
   "version": "3.9.5"
  }
 },
 "nbformat": 4,
 "nbformat_minor": 4
}