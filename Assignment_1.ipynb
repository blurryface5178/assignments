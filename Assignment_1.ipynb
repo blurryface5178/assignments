{
 "cells": [
  {
   "cell_type": "markdown",
   "metadata": {},
   "source": [
    "Create a Numpy Array containing numbers from 1 to 64\n",
    "- Plot the array as a line plot using matplotlib\n",
    "- Change the created array dimensions to 8 x 8\n",
    "- What happens if you:\n",
    "\n",
    "- Change the 8x8 matrix shape to (2, 4)?\n",
    "- Change the 8x8 matrix shape to (4, 2)?\n",
    "- Change the 8x8 matrix shape to (3, 3)?\n",
    "- Change the 8x8 matrix shape to (2, 2, 2)?\n",
    "- Change the 8x8 matrix shape to (2, -1, 2)?\n",
    "    "
   ]
  },
  {
   "cell_type": "markdown",
   "metadata": {},
   "source": [
    "Create a new array containing numbers from 0-7\n",
    "- What is the shape of the array?\n",
    "- What happens if you add the array to the 8x8 matrix?\n",
    "- What happens if you resize the array to (1, 8) and add to the 8x8 matrix?\n",
    "- What happens if you resize the array to (8, 1) and add to the 8x8 matrix?\n",
    "- (Hint:- You may want to look at Broadcasting)\n",
    "- Write your findings and observations down in the cell below\n"
   ]
  },
  {
   "cell_type": "markdown",
   "metadata": {},
   "source": [
    "Create a matrix containing random numbers of size 4x4\n",
    "- Pad the matrix with zeros to create a matrix of size 6x6\n",
    "- Write to crop the 6x6 matrix back into the original 4x4 matrix (Numpy array indexing may be useful?)\n"
   ]
  },
  {
   "cell_type": "markdown",
   "metadata": {},
   "source": [
    "Learn about vectorization of matrix operations in numpy"
   ]
  },
  {
   "cell_type": "markdown",
   "metadata": {},
   "source": [
    "Create two matrices of shape (2, 4) and perform the following, if possible:\n",
    "- Element wise multiplication\n",
    "- How to transpose the matrix?\n",
    "- Can they be multiplied together (matrix multiplication)? If yes, perform the multiplication, else show a way to multiply the matrices together.\n"
   ]
  },
  {
   "cell_type": "markdown",
   "metadata": {},
   "source": [
    "Create the matrix shown below:\n",
    "\n",
    "Slice the array to obtain subarrays shown in each color\n",
    "Find the:\n",
    "unique elements in the array\n",
    "Number of unique elements\n",
    "The maximum element\n",
    "The minimum element\n",
    "The index of the maximum element\n",
    "The index of the minimum element\n",
    "The mean of the array\n",
    "The standard deviation\n",
    "Perform the following operations:\n",
    "Sum the array column wise (Read about axis in numpy)\n",
    "Sum the array row wise\n",
    "Find maximum element for each column\n",
    "Find maximum element for each row\n",
    "Find the mean across each column\n",
    "Find the mean across each row\n",
    "Change the datatype of the array to : int, float and object\n",
    "Considering that the rows represent each data point and columns represent the features which we will feed to a ML model, perform the following feature scaling operations (without SKLearn):\n",
    "Normalization\n",
    "Standardization"
   ]
  },
  {
   "cell_type": "markdown",
   "metadata": {},
   "source": [
    "Load an image using opencv, which gives you a numpy array and inspect its shape. Interpret the shape of the array.\n",
    "Plot each color channel individually using matplotlib\n",
    "Create a 3d matrix with 1s in the diagonal, 0 in all other positions\n",
    "Implement 1d convolution in numpy. Given any (1, n) shape array, it should perform convolution with a given (1, m) array\n",
    "Implement 2d convolution in numpy. And show the output before and after convolution on any image.\n"
   ]
  },
  {
   "cell_type": "code",
   "execution_count": null,
   "metadata": {},
   "outputs": [],
   "source": []
  }
 ],
 "metadata": {
  "kernelspec": {
   "display_name": "Python 3",
   "language": "python",
   "name": "python3"
  },
  "language_info": {
   "codemirror_mode": {
    "name": "ipython",
    "version": 3
   },
   "file_extension": ".py",
   "mimetype": "text/x-python",
   "name": "python",
   "nbconvert_exporter": "python",
   "pygments_lexer": "ipython3",
   "version": "3.8.3"
  }
 },
 "nbformat": 4,
 "nbformat_minor": 4
}
