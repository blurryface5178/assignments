{
 "cells": [
  {
   "cell_type": "code",
   "execution_count": 2,
   "metadata": {
    "ExecuteTime": {
     "end_time": "2021-06-09T13:06:28.433586Z",
     "start_time": "2021-06-09T13:06:28.296907Z"
    }
   },
   "outputs": [],
   "source": [
    "from sklearn.datasets import load_breast_cancer\n",
    "from sklearn.model_selection import train_test_split\n",
    "import matplotlib.pyplot as plt\n",
    "import pandas as pd\n",
    "import numpy as np"
   ]
  },
  {
   "cell_type": "markdown",
   "metadata": {},
   "source": [
    "# Implement Logistic Regression"
   ]
  },
  {
   "cell_type": "markdown",
   "metadata": {},
   "source": [
    "This will be helpful to further familiarize yourself with Numpy and how Logistic Regression actually works.\n",
    "If you face any problems, feel free to contact us in Slack"
   ]
  },
  {
   "cell_type": "markdown",
   "metadata": {},
   "source": [
    "### Load the breast cancer dataset (from sklearn)"
   ]
  },
  {
   "cell_type": "code",
   "execution_count": 3,
   "metadata": {
    "ExecuteTime": {
     "end_time": "2021-06-09T12:42:06.585347Z",
     "start_time": "2021-06-09T12:42:06.577169Z"
    }
   },
   "outputs": [
    {
     "data": {
      "text/html": "<div>\n<style scoped>\n    .dataframe tbody tr th:only-of-type {\n        vertical-align: middle;\n    }\n\n    .dataframe tbody tr th {\n        vertical-align: top;\n    }\n\n    .dataframe thead th {\n        text-align: right;\n    }\n</style>\n<table border=\"1\" class=\"dataframe\">\n  <thead>\n    <tr style=\"text-align: right;\">\n      <th></th>\n      <th>mean radius</th>\n      <th>mean texture</th>\n      <th>mean perimeter</th>\n      <th>mean area</th>\n      <th>mean smoothness</th>\n      <th>mean compactness</th>\n      <th>mean concavity</th>\n      <th>mean concave points</th>\n      <th>mean symmetry</th>\n      <th>mean fractal dimension</th>\n      <th>...</th>\n      <th>worst radius</th>\n      <th>worst texture</th>\n      <th>worst perimeter</th>\n      <th>worst area</th>\n      <th>worst smoothness</th>\n      <th>worst compactness</th>\n      <th>worst concavity</th>\n      <th>worst concave points</th>\n      <th>worst symmetry</th>\n      <th>worst fractal dimension</th>\n    </tr>\n  </thead>\n  <tbody>\n    <tr>\n      <th>0</th>\n      <td>17.99</td>\n      <td>10.38</td>\n      <td>122.80</td>\n      <td>1001.0</td>\n      <td>0.11840</td>\n      <td>0.27760</td>\n      <td>0.30010</td>\n      <td>0.14710</td>\n      <td>0.2419</td>\n      <td>0.07871</td>\n      <td>...</td>\n      <td>25.380</td>\n      <td>17.33</td>\n      <td>184.60</td>\n      <td>2019.0</td>\n      <td>0.16220</td>\n      <td>0.66560</td>\n      <td>0.7119</td>\n      <td>0.2654</td>\n      <td>0.4601</td>\n      <td>0.11890</td>\n    </tr>\n    <tr>\n      <th>1</th>\n      <td>20.57</td>\n      <td>17.77</td>\n      <td>132.90</td>\n      <td>1326.0</td>\n      <td>0.08474</td>\n      <td>0.07864</td>\n      <td>0.08690</td>\n      <td>0.07017</td>\n      <td>0.1812</td>\n      <td>0.05667</td>\n      <td>...</td>\n      <td>24.990</td>\n      <td>23.41</td>\n      <td>158.80</td>\n      <td>1956.0</td>\n      <td>0.12380</td>\n      <td>0.18660</td>\n      <td>0.2416</td>\n      <td>0.1860</td>\n      <td>0.2750</td>\n      <td>0.08902</td>\n    </tr>\n    <tr>\n      <th>2</th>\n      <td>19.69</td>\n      <td>21.25</td>\n      <td>130.00</td>\n      <td>1203.0</td>\n      <td>0.10960</td>\n      <td>0.15990</td>\n      <td>0.19740</td>\n      <td>0.12790</td>\n      <td>0.2069</td>\n      <td>0.05999</td>\n      <td>...</td>\n      <td>23.570</td>\n      <td>25.53</td>\n      <td>152.50</td>\n      <td>1709.0</td>\n      <td>0.14440</td>\n      <td>0.42450</td>\n      <td>0.4504</td>\n      <td>0.2430</td>\n      <td>0.3613</td>\n      <td>0.08758</td>\n    </tr>\n    <tr>\n      <th>3</th>\n      <td>11.42</td>\n      <td>20.38</td>\n      <td>77.58</td>\n      <td>386.1</td>\n      <td>0.14250</td>\n      <td>0.28390</td>\n      <td>0.24140</td>\n      <td>0.10520</td>\n      <td>0.2597</td>\n      <td>0.09744</td>\n      <td>...</td>\n      <td>14.910</td>\n      <td>26.50</td>\n      <td>98.87</td>\n      <td>567.7</td>\n      <td>0.20980</td>\n      <td>0.86630</td>\n      <td>0.6869</td>\n      <td>0.2575</td>\n      <td>0.6638</td>\n      <td>0.17300</td>\n    </tr>\n    <tr>\n      <th>4</th>\n      <td>20.29</td>\n      <td>14.34</td>\n      <td>135.10</td>\n      <td>1297.0</td>\n      <td>0.10030</td>\n      <td>0.13280</td>\n      <td>0.19800</td>\n      <td>0.10430</td>\n      <td>0.1809</td>\n      <td>0.05883</td>\n      <td>...</td>\n      <td>22.540</td>\n      <td>16.67</td>\n      <td>152.20</td>\n      <td>1575.0</td>\n      <td>0.13740</td>\n      <td>0.20500</td>\n      <td>0.4000</td>\n      <td>0.1625</td>\n      <td>0.2364</td>\n      <td>0.07678</td>\n    </tr>\n    <tr>\n      <th>...</th>\n      <td>...</td>\n      <td>...</td>\n      <td>...</td>\n      <td>...</td>\n      <td>...</td>\n      <td>...</td>\n      <td>...</td>\n      <td>...</td>\n      <td>...</td>\n      <td>...</td>\n      <td>...</td>\n      <td>...</td>\n      <td>...</td>\n      <td>...</td>\n      <td>...</td>\n      <td>...</td>\n      <td>...</td>\n      <td>...</td>\n      <td>...</td>\n      <td>...</td>\n      <td>...</td>\n    </tr>\n    <tr>\n      <th>564</th>\n      <td>21.56</td>\n      <td>22.39</td>\n      <td>142.00</td>\n      <td>1479.0</td>\n      <td>0.11100</td>\n      <td>0.11590</td>\n      <td>0.24390</td>\n      <td>0.13890</td>\n      <td>0.1726</td>\n      <td>0.05623</td>\n      <td>...</td>\n      <td>25.450</td>\n      <td>26.40</td>\n      <td>166.10</td>\n      <td>2027.0</td>\n      <td>0.14100</td>\n      <td>0.21130</td>\n      <td>0.4107</td>\n      <td>0.2216</td>\n      <td>0.2060</td>\n      <td>0.07115</td>\n    </tr>\n    <tr>\n      <th>565</th>\n      <td>20.13</td>\n      <td>28.25</td>\n      <td>131.20</td>\n      <td>1261.0</td>\n      <td>0.09780</td>\n      <td>0.10340</td>\n      <td>0.14400</td>\n      <td>0.09791</td>\n      <td>0.1752</td>\n      <td>0.05533</td>\n      <td>...</td>\n      <td>23.690</td>\n      <td>38.25</td>\n      <td>155.00</td>\n      <td>1731.0</td>\n      <td>0.11660</td>\n      <td>0.19220</td>\n      <td>0.3215</td>\n      <td>0.1628</td>\n      <td>0.2572</td>\n      <td>0.06637</td>\n    </tr>\n    <tr>\n      <th>566</th>\n      <td>16.60</td>\n      <td>28.08</td>\n      <td>108.30</td>\n      <td>858.1</td>\n      <td>0.08455</td>\n      <td>0.10230</td>\n      <td>0.09251</td>\n      <td>0.05302</td>\n      <td>0.1590</td>\n      <td>0.05648</td>\n      <td>...</td>\n      <td>18.980</td>\n      <td>34.12</td>\n      <td>126.70</td>\n      <td>1124.0</td>\n      <td>0.11390</td>\n      <td>0.30940</td>\n      <td>0.3403</td>\n      <td>0.1418</td>\n      <td>0.2218</td>\n      <td>0.07820</td>\n    </tr>\n    <tr>\n      <th>567</th>\n      <td>20.60</td>\n      <td>29.33</td>\n      <td>140.10</td>\n      <td>1265.0</td>\n      <td>0.11780</td>\n      <td>0.27700</td>\n      <td>0.35140</td>\n      <td>0.15200</td>\n      <td>0.2397</td>\n      <td>0.07016</td>\n      <td>...</td>\n      <td>25.740</td>\n      <td>39.42</td>\n      <td>184.60</td>\n      <td>1821.0</td>\n      <td>0.16500</td>\n      <td>0.86810</td>\n      <td>0.9387</td>\n      <td>0.2650</td>\n      <td>0.4087</td>\n      <td>0.12400</td>\n    </tr>\n    <tr>\n      <th>568</th>\n      <td>7.76</td>\n      <td>24.54</td>\n      <td>47.92</td>\n      <td>181.0</td>\n      <td>0.05263</td>\n      <td>0.04362</td>\n      <td>0.00000</td>\n      <td>0.00000</td>\n      <td>0.1587</td>\n      <td>0.05884</td>\n      <td>...</td>\n      <td>9.456</td>\n      <td>30.37</td>\n      <td>59.16</td>\n      <td>268.6</td>\n      <td>0.08996</td>\n      <td>0.06444</td>\n      <td>0.0000</td>\n      <td>0.0000</td>\n      <td>0.2871</td>\n      <td>0.07039</td>\n    </tr>\n  </tbody>\n</table>\n<p>569 rows × 30 columns</p>\n</div>",
      "text/plain": "     mean radius  mean texture  mean perimeter  mean area  mean smoothness  \\\n0          17.99         10.38          122.80     1001.0          0.11840   \n1          20.57         17.77          132.90     1326.0          0.08474   \n2          19.69         21.25          130.00     1203.0          0.10960   \n3          11.42         20.38           77.58      386.1          0.14250   \n4          20.29         14.34          135.10     1297.0          0.10030   \n..           ...           ...             ...        ...              ...   \n564        21.56         22.39          142.00     1479.0          0.11100   \n565        20.13         28.25          131.20     1261.0          0.09780   \n566        16.60         28.08          108.30      858.1          0.08455   \n567        20.60         29.33          140.10     1265.0          0.11780   \n568         7.76         24.54           47.92      181.0          0.05263   \n\n     mean compactness  mean concavity  mean concave points  mean symmetry  \\\n0             0.27760         0.30010              0.14710         0.2419   \n1             0.07864         0.08690              0.07017         0.1812   \n2             0.15990         0.19740              0.12790         0.2069   \n3             0.28390         0.24140              0.10520         0.2597   \n4             0.13280         0.19800              0.10430         0.1809   \n..                ...             ...                  ...            ...   \n564           0.11590         0.24390              0.13890         0.1726   \n565           0.10340         0.14400              0.09791         0.1752   \n566           0.10230         0.09251              0.05302         0.1590   \n567           0.27700         0.35140              0.15200         0.2397   \n568           0.04362         0.00000              0.00000         0.1587   \n\n     mean fractal dimension  ...  worst radius  worst texture  \\\n0                   0.07871  ...        25.380          17.33   \n1                   0.05667  ...        24.990          23.41   \n2                   0.05999  ...        23.570          25.53   \n3                   0.09744  ...        14.910          26.50   \n4                   0.05883  ...        22.540          16.67   \n..                      ...  ...           ...            ...   \n564                 0.05623  ...        25.450          26.40   \n565                 0.05533  ...        23.690          38.25   \n566                 0.05648  ...        18.980          34.12   \n567                 0.07016  ...        25.740          39.42   \n568                 0.05884  ...         9.456          30.37   \n\n     worst perimeter  worst area  worst smoothness  worst compactness  \\\n0             184.60      2019.0           0.16220            0.66560   \n1             158.80      1956.0           0.12380            0.18660   \n2             152.50      1709.0           0.14440            0.42450   \n3              98.87       567.7           0.20980            0.86630   \n4             152.20      1575.0           0.13740            0.20500   \n..               ...         ...               ...                ...   \n564           166.10      2027.0           0.14100            0.21130   \n565           155.00      1731.0           0.11660            0.19220   \n566           126.70      1124.0           0.11390            0.30940   \n567           184.60      1821.0           0.16500            0.86810   \n568            59.16       268.6           0.08996            0.06444   \n\n     worst concavity  worst concave points  worst symmetry  \\\n0             0.7119                0.2654          0.4601   \n1             0.2416                0.1860          0.2750   \n2             0.4504                0.2430          0.3613   \n3             0.6869                0.2575          0.6638   \n4             0.4000                0.1625          0.2364   \n..               ...                   ...             ...   \n564           0.4107                0.2216          0.2060   \n565           0.3215                0.1628          0.2572   \n566           0.3403                0.1418          0.2218   \n567           0.9387                0.2650          0.4087   \n568           0.0000                0.0000          0.2871   \n\n     worst fractal dimension  \n0                    0.11890  \n1                    0.08902  \n2                    0.08758  \n3                    0.17300  \n4                    0.07678  \n..                       ...  \n564                  0.07115  \n565                  0.06637  \n566                  0.07820  \n567                  0.12400  \n568                  0.07039  \n\n[569 rows x 30 columns]"
     },
     "metadata": {
      "transient": {}
     },
     "output_type": "display_data"
    },
    {
     "name": "stdout",
     "output_type": "stream",
     "text": [
      "['mean radius' 'mean texture' 'mean perimeter' 'mean area'\n",
      " 'mean smoothness' 'mean compactness' 'mean concavity'\n",
      " 'mean concave points' 'mean symmetry' 'mean fractal dimension'\n",
      " 'radius error' 'texture error' 'perimeter error' 'area error'\n",
      " 'smoothness error' 'compactness error' 'concavity error'\n",
      " 'concave points error' 'symmetry error' 'fractal dimension error'\n",
      " 'worst radius' 'worst texture' 'worst perimeter' 'worst area'\n",
      " 'worst smoothness' 'worst compactness' 'worst concavity'\n",
      " 'worst concave points' 'worst symmetry' 'worst fractal dimension']\n",
      "(569,)\n"
     ]
    }
   ],
   "source": [
    "# Code here\n",
    "x, y = load_breast_cancer(return_X_y= True, as_frame=True)\n",
    "display(x)\n",
    "print(x.columns.values)\n",
    "print(y.shape)"
   ]
  },
  {
   "cell_type": "markdown",
   "metadata": {},
   "source": [
    "### Train test split"
   ]
  },
  {
   "cell_type": "code",
   "execution_count": 4,
   "metadata": {
    "ExecuteTime": {
     "end_time": "2021-06-09T12:42:07.291757Z",
     "start_time": "2021-06-09T12:42:07.285931Z"
    }
   },
   "outputs": [
    {
     "name": "stdout",
     "output_type": "stream",
     "text": [
      "(512, 30) (57, 30) (512,) (57,)\n"
     ]
    }
   ],
   "source": [
    "# Code here\n",
    "X_train, X_test, y_train, y_test = train_test_split(x, y, test_size=0.1)\n",
    "print(X_train.shape, X_test.shape, y_train.shape, y_test.shape)"
   ]
  },
  {
   "cell_type": "markdown",
   "metadata": {},
   "source": [
    "### Apply feature scaling on the data"
   ]
  },
  {
   "cell_type": "code",
   "execution_count": 5,
   "metadata": {
    "ExecuteTime": {
     "end_time": "2021-06-09T12:42:09.129434Z",
     "start_time": "2021-06-09T12:42:09.121016Z"
    }
   },
   "outputs": [],
   "source": [
    "# Code here\n",
    "\n",
    "X_test = ((X_test - X_test.mean()) / (X_test.max() - X_test.mean()))\n",
    "temp = np.ones((X_test.shape[0], X_test.shape[1]+1))\n",
    "temp[:, 1:] = X_test\n",
    "X_test = temp\n",
    "\n",
    "X_train = ((X_train - X_train.mean()) / (X_train.max() - X_train.mean()))\n",
    "temp = np.ones((X_train.shape[0], X_train.shape[1]+1))\n",
    "temp[:, 1:] = X_train\n",
    "X_train = temp"
   ]
  },
  {
   "cell_type": "markdown",
   "metadata": {},
   "source": [
    "### Define the Parameters (W or Θ) here\n",
    "Create an appropriate shape numpy array for W"
   ]
  },
  {
   "cell_type": "code",
   "execution_count": 6,
   "metadata": {
    "ExecuteTime": {
     "end_time": "2021-06-09T12:42:17.483898Z",
     "start_time": "2021-06-09T12:42:17.479146Z"
    }
   },
   "outputs": [
    {
     "name": "stdout",
     "output_type": "stream",
     "text": [
      "(31,)\n"
     ]
    }
   ],
   "source": [
    "W = np.random.uniform(-1, 1, X_train.shape[1])  # Weights\n",
    "alpha = 0.01 # Learning Rate\n",
    "\n",
    "print(W.shape)"
   ]
  },
  {
   "attachments": {
    "image.png": {
     "image/png": "[encoded data removed]"
    }
   },
   "cell_type": "markdown",
   "metadata": {},
   "source": [
    "### Define sigmoid and its derivative\n",
    "![image.png](attachment:image.png)"
   ]
  },
  {
   "cell_type": "code",
   "execution_count": 7,
   "metadata": {
    "ExecuteTime": {
     "end_time": "2021-06-09T13:06:30.556499Z",
     "start_time": "2021-06-09T13:06:30.546273Z"
    }
   },
   "outputs": [],
   "source": [
    "def sigmoid(X: np.array):\n",
    "    # Apply sigmoid to X and return \n",
    "    return 1 / (1 + np.exp(-X))\n",
    "\n",
    "def sigmoid_(X: np.array):\n",
    "    # return derivative of sigmoid\n",
    "    return sigmoid(X)*(1 - sigmoid(X))"
   ]
  },
  {
   "cell_type": "markdown",
   "metadata": {},
   "source": [
    "### Prediction methods"
   ]
  },
  {
   "cell_type": "code",
   "execution_count": 8,
   "metadata": {
    "ExecuteTime": {
     "end_time": "2021-06-09T13:02:43.868900Z",
     "start_time": "2021-06-09T13:02:43.861414Z"
    }
   },
   "outputs": [],
   "source": [
    "def predict_prob(X, W):\n",
    "    # Return the class probabilities here\n",
    "    return sigmoid(np.matmul(X, W))\n",
    "\n",
    "def predict(X, W):\n",
    "    prob = predict_prob(X, W)\n",
    "    res = np.zeros(prob.shape)\n",
    "    for i in range(prob.shape[0]):\n",
    "        if prob[i] > 0.5:\n",
    "            res[i] =  1\n",
    "    return res"
   ]
  },
  {
   "attachments": {
    "image.png": {
     "image/png": "[encoded data removed]"
    }
   },
   "cell_type": "markdown",
   "metadata": {},
   "source": [
    "### Define the Cross entropy loss function\n",
    "\n",
    "![image.png](attachment:image.png)"
   ]
  },
  {
   "cell_type": "code",
   "execution_count": 9,
   "metadata": {
    "ExecuteTime": {
     "end_time": "2021-06-09T12:45:11.548167Z",
     "start_time": "2021-06-09T12:45:11.536323Z"
    }
   },
   "outputs": [],
   "source": [
    "# Code here\n",
    "def binary_cross_entropy(y, yhat):\n",
    "    return - (np.dot(y, np.log(yhat))+ np.dot((1 - y), np.log(1 - yhat))) / y.shape[0]"
   ]
  },
  {
   "cell_type": "code",
   "execution_count": 10,
   "metadata": {
    "ExecuteTime": {
     "end_time": "2021-06-08T03:10:49.247090Z",
     "start_time": "2021-06-08T03:10:49.212Z"
    }
   },
   "outputs": [
    {
     "name": "stdout",
     "output_type": "stream",
     "text": [
      "(512, 31) (31,)\n",
      "(512,)\n"
     ]
    }
   ],
   "source": [
    "print(X_train.shape, W.shape)\n",
    "yhat = predict_prob(X_train, W)\n",
    "print(yhat.shape)"
   ]
  },
  {
   "cell_type": "code",
   "execution_count": 11,
   "metadata": {
    "ExecuteTime": {
     "end_time": "2021-06-08T03:10:49.248996Z",
     "start_time": "2021-06-08T03:10:49.216Z"
    }
   },
   "outputs": [
    {
     "name": "stdout",
     "output_type": "stream",
     "text": [
      "(512,) (512,)\n",
      "0.5019853978195058\n"
     ]
    }
   ],
   "source": [
    "loss = binary_cross_entropy(y_train, yhat)\n",
    "print(y_train.shape, yhat.shape)\n",
    "print(loss)"
   ]
  },
  {
   "cell_type": "markdown",
   "metadata": {},
   "source": [
    "# Solve using Gradient Descent"
   ]
  },
  {
   "cell_type": "markdown",
   "metadata": {},
   "source": [
    "### Calculate gradient\n",
    "For practice, you can try to derive the gradient using pen and paper"
   ]
  },
  {
   "cell_type": "code",
   "execution_count": 12,
   "metadata": {
    "ExecuteTime": {
     "end_time": "2021-06-08T03:10:49.252566Z",
     "start_time": "2021-06-08T03:10:49.204031Z"
    }
   },
   "outputs": [],
   "source": [
    "def compute_gradient(X, y, W):\n",
    "    # Code here\n",
    "    # dL/dy * dy/dW\n",
    "    return np.dot(X.T, predict_prob(X, W)-y) / (2 *X.shape[0])"
   ]
  },
  {
   "cell_type": "markdown",
   "metadata": {},
   "source": [
    "### Update Weights"
   ]
  },
  {
   "cell_type": "code",
   "execution_count": 13,
   "metadata": {
    "ExecuteTime": {
     "end_time": "2021-06-08T03:10:49.252566Z",
     "start_time": "2021-06-08T03:10:49.204031Z"
    }
   },
   "outputs": [
    {
     "name": "stdout",
     "output_type": "stream",
     "text": [
      "[ 0.63147786 -0.22663688 -0.97237559 -0.53378703 -0.69383951 -0.51866157\n",
      " -0.16414272 -0.03234328 -0.7451452   0.07402164 -0.33339608  0.66576318\n",
      " -0.81032733  0.24048693 -0.30411824 -0.4311893   0.37311989  0.35460617\n",
      "  0.31782455 -0.73913258  0.47058439  0.1415823   0.53625846  0.45674229\n",
      " -0.35575434  0.10567714 -0.25459465  0.26770548 -0.46293882 -0.57585107\n",
      "  0.99610829]\n"
     ]
    }
   ],
   "source": [
    "# Code here\n",
    "W = W - alpha*compute_gradient(X_train, y_train, W)\n",
    "print(W)"
   ]
  },
  {
   "cell_type": "markdown",
   "metadata": {},
   "source": [
    "### Repeat for N- Iterations"
   ]
  },
  {
   "cell_type": "code",
   "execution_count": 14,
   "metadata": {
    "ExecuteTime": {
     "end_time": "2021-06-08T03:10:49.254612Z",
     "start_time": "2021-06-08T03:10:49.228Z"
    }
   },
   "outputs": [
    {
     "name": "stdout",
     "output_type": "stream",
     "text": [
      "1000\n",
      "[0.50171486006152, 0.5014446882304557, 0.5011748816769158, 0.5009054397526359, 0.5006363618104834, 0.5003676472044578, 0.5000992952896895, 0.4998313054224399, 0.49956367696010073, 0.4992964092611937, 0.49902950168536975, 0.4987629535934087, 0.49849676434721896, 0.4982309333098366, 0.4979654598454249, 0.4977003433192742, 0.49743558309780056, 0.4971711785485462, 0.4969071290401776, 0.4966434339424863, 0.49638009262638694, 0.49611710446391777, 0.4958544688282393, 0.4955921850936339, 0.49533025263550473, 0.49506867083037587, 0.49480743905589086, 0.4945465566908123, 0.49428602311502107, 0.4940258377095157, 0.4937659998564112, 0.49350650893893916, 0.49324736434144606, 0.4929885654493929, 0.49273011164935465, 0.49247200232901894, 0.49221423687718546, 0.4919568146837653, 0.4916997351397799, 0.4914429976373603, 0.49118660156974625, 0.4909305463312853, 0.49067483131743195, 0.49041945592474684, 0.4901644195508956, 0.48990972159464846, 0.4896553614558786, 0.48940133853556184, 0.4891476522357754, 0.48889430195969685, 0.4886412871116036, 0.48838860709687154, 0.4881362613219739, 0.48788424919448076, 0.4876325701230578, 0.4873812235174652, 0.48713020878855684, 0.4868795253482791, 0.4866291726096697, 0.486379149986857, 0.48612945689505876, 0.4858800927505812, 0.48563105697081754, 0.48538234897424754, 0.4851339681804358, 0.48488591401003106, 0.4846381858847649, 0.4843907832274509, 0.48414370546198315, 0.48389695201333527, 0.48365052230755945, 0.48340441577178483, 0.48315863183421714, 0.4829131699241367, 0.4826680294718978, 0.48242320990892734, 0.4821787106677235, 0.48193453118185503, 0.48169067088595935, 0.48144712921574195, 0.48120390560797505, 0.480960999500496, 0.4807184103322065, 0.4804761375430712, 0.4802341805741167, 0.4799925388674297, 0.4797512118661563, 0.4795101990145007, 0.4792694997577236, 0.47902911354214117, 0.47878903981512394, 0.4785492780250951, 0.4783098276215295, 0.47807068805495234, 0.47783185877693773, 0.4775933392401076, 0.47735512889813014, 0.4771172272057185, 0.4768796336186299, 0.4766423475936636, 0.4764053685886601, 0.4761686960624997, 0.4759323294751009, 0.47569626828741945, 0.47546051196144656, 0.47522505996020803, 0.4749899117477622, 0.4747550667891994, 0.47452052455063987, 0.47428628449923305, 0.4740523461031553, 0.4738187088316093, 0.47358537215482255, 0.47335233554404543, 0.4731195984715505, 0.4728871604106306, 0.4726550208355975, 0.47242317922178073, 0.472191635045526, 0.47196038778419375, 0.47172943691615765, 0.4714987819208034, 0.47126842227852717, 0.47103835747073397, 0.47080858697983663, 0.47057911028925387, 0.47034992688340915, 0.4701210362477292, 0.46989243786864243, 0.4696641312335776, 0.4694361158309622, 0.469208391150221, 0.4689809566817749, 0.468753811917039, 0.46852695634842134, 0.4683003894693213, 0.4680741107741283, 0.4678481197582202, 0.46762241591796194, 0.4673969987507034, 0.4671718677547791, 0.46694702242950553, 0.46672246227518027, 0.46649818679308047, 0.46627419548546095, 0.46605048785555303, 0.46582706340756314, 0.46560392164667075, 0.46538106207902724, 0.46515848421175465, 0.4649361875529434, 0.4647141716116514, 0.4644924358979023, 0.46427097992268385, 0.46404980319794653, 0.4638289052366019, 0.4636082855525212, 0.46338794366053376, 0.4631678790764252, 0.46294809131693637, 0.46272857989976124, 0.46250934434354585, 0.4622903841678864, 0.4620716988933281, 0.46185328804136294, 0.46163515113442904, 0.4614172876959081, 0.4611996972501248, 0.4609823793223443, 0.4607653334387717, 0.46054855912654935, 0.46033205591375637, 0.46011582332940626, 0.4598998609034457, 0.45968416816675295, 0.4594687446511363, 0.45925358988933246, 0.4590387034150048, 0.45882408476274195, 0.45860973346805656, 0.45839564906738295, 0.45818183109807625, 0.4579682790984103, 0.4577549926075767, 0.45754197116568224, 0.45732921431374846, 0.4571167215937091, 0.45690449254840915, 0.45669252672160304, 0.45648082365795295, 0.45626938290302754, 0.45605820400329966, 0.4558472865061459, 0.45563662995984394, 0.45542623391357134, 0.45521609791740436, 0.4550062215223155, 0.454796604280173, 0.45458724574373804, 0.4543781454666641, 0.454169303003495, 0.4539607179096633, 0.45375238974148874, 0.4535443180561766, 0.45333650241181633, 0.4531289423673797, 0.4529216374827193, 0.45271458731856673, 0.45250779143653164, 0.45230124939909927, 0.4520949607696297, 0.45188892511235557, 0.4516831419923809, 0.45147761097567934, 0.4512723316290926, 0.4510673035203288, 0.4508625262179612, 0.450657999291426, 0.45045372231102143, 0.45024969484790556, 0.450045916474095, 0.4498423867624634, 0.4496391052867397, 0.4494360716215066, 0.4492332853421988, 0.4490307460251017, 0.44882845324734966, 0.4486264065869244, 0.44842460562265324, 0.44822304993420803, 0.44802173910210297, 0.44782067270769355, 0.4476198503331743, 0.4474192715615779, 0.44721893597677337, 0.44701884316346396, 0.44681899270718656, 0.44661938419430924, 0.4464200172120299, 0.4462208913483753, 0.44602200619219823, 0.4458233613331775, 0.44562495636181476, 0.44542679086943404, 0.44522886444817994, 0.44503117669101566, 0.4448337271917217, 0.4446365155448946, 0.44443954134594466, 0.4442428041910951, 0.4440463036773798, 0.4438500394026422, 0.4436540109655337, 0.4434582179655119, 0.4432626600028389, 0.44306733667858056, 0.44287224759460364, 0.44267739235357517, 0.44248277055896085, 0.4422883818150231, 0.4420942257268195, 0.4419003019002017, 0.4417066099418133, 0.44151314945908887, 0.4413199200602518, 0.4411269213543129, 0.44093415295106947, 0.4407416144611028, 0.4405493054957773, 0.4403572256672385, 0.440165374588412, 0.43997375187300125, 0.4397823571354867, 0.439591189991124, 0.4394002500559422, 0.43920953694674225, 0.43901905028109617, 0.4388287896773444, 0.43863875475459524, 0.43844894513272253, 0.43825936043236485, 0.43807000027492327, 0.4378808642825605, 0.4376919520781989, 0.4375032632855188, 0.4373147975289578, 0.4371265544337083, 0.43693853362571644, 0.4367507347316807, 0.43656315737904994, 0.4363758011960224, 0.4361886658115437, 0.43600175085530557, 0.4358150559577445, 0.43562858075003985, 0.4354423248641126, 0.43525628793262383, 0.435070469588973, 0.43488486946729676, 0.4346994872024672, 0.4345143224300906, 0.43432937478650546, 0.4341446439087815, 0.43396012943471807, 0.4337758310028424, 0.43359174825240826, 0.43340788082339465, 0.43322422835650404, 0.4330407904931609, 0.43285756687551036, 0.4326745571464168, 0.43249176094946196, 0.432309177928944, 0.43212680772987566, 0.4319446499979829, 0.4317627043797034, 0.43158097052218497, 0.43139944807328445, 0.43121813668156583, 0.43103703599629917, 0.43085614566745856, 0.4306754653457214, 0.43049499468246627, 0.430314733329772, 0.43013468094041585, 0.42995483716787225, 0.4297752016663112, 0.429595774090597, 0.42941655409628676, 0.42923754133962866, 0.429058735477561, 0.4288801361677105, 0.4287017430683906, 0.4285235558386007, 0.428345574138024, 0.4281677976270266, 0.4279902259666556, 0.4278128588186383, 0.42763569584538, 0.42745873670996337, 0.42728198107614634, 0.427105428608361, 0.42692907897171234, 0.4267529318319765, 0.4265769868555996, 0.4264012437096962, 0.4262257020620479, 0.426050361581102, 0.42587522193597005, 0.42570028279642647, 0.4255255438329071, 0.4253510047165079, 0.42517666511898333, 0.42500252471274536, 0.4248285831708617, 0.4246548401670544, 0.424481295375699, 0.4243079484718223, 0.42413479913110175, 0.4239618470298637, 0.42378909184508196, 0.42361653325437654, 0.42344417093601244, 0.42327200456889785, 0.42310003383258343, 0.42292825840726, 0.4227566779737584, 0.4225852922135468, 0.4224141008087305, 0.4222431034420498, 0.422072299796879, 0.42190168955722496, 0.4217312724077257, 0.4215610480336492, 0.42139101612089186, 0.4212211763559773, 0.42105152842605487, 0.4208820720188986, 0.4207128068229056, 0.42054373252709465, 0.42037484882110526, 0.42020615539519585, 0.4200376519402429, 0.4198693381477391, 0.41970121370979263, 0.4195332783191253, 0.41936553166907153, 0.4191979734535772, 0.41903060336719755, 0.418863421105097, 0.4186964263630468, 0.41852961883742446, 0.4183629982252122, 0.4181965642239953, 0.4180303165319615, 0.4178642548478989, 0.41769837887119543, 0.4175326883018371, 0.41736718284040675, 0.41720186218808286, 0.41703672604663833, 0.41687177411843884, 0.4167070061064422, 0.4165424217141964, 0.41637802064583873, 0.4162138026060944, 0.4160497673002753, 0.41588591443427875, 0.4157222437145861, 0.41555875484826155, 0.415395447542951, 0.41523232150688055, 0.41506937644885544, 0.41490661207825885, 0.4147440281050503, 0.4145816242397648, 0.4144194001935113, 0.41425735567797173, 0.41409549040539945, 0.4139338040886182, 0.41377229644102087, 0.4136109671765683, 0.4134498160097877, 0.4132888426557718, 0.41312804683017773, 0.41296742824922517, 0.4128069866296957, 0.4126467216889316, 0.412486633144834, 0.4123267207158625, 0.4121669841210333, 0.4120074230799182, 0.41184803731264374, 0.41168882653988936, 0.4115297904828865, 0.41137092886341764, 0.41121224140381474, 0.4110537278269581, 0.4108953878562753, 0.41073722121573997, 0.41057922762987054, 0.4104214068237291, 0.41026375852291996, 0.41010628245358915, 0.4099489783424224, 0.40979184591664447, 0.40963488490401784, 0.4094780950328417, 0.40932147603195024, 0.4091650276307124, 0.40900874955902955, 0.40885264154733536, 0.40869670332659425, 0.4085409346282999, 0.4083853351844746, 0.40822990472766774, 0.40807464299095497, 0.40791954970793665, 0.4077646246127372, 0.4076098674400035, 0.4074552779249039, 0.4073008558031273, 0.4071466008108815, 0.40699251268489267, 0.4068385911624038, 0.40668483598117366, 0.40653124687947584, 0.4063778235960972, 0.4062245658703375, 0.4060714734420072, 0.4059185460514275, 0.4057657834394284, 0.40561318534734764, 0.4054607515170302, 0.40530848169082667, 0.405156375611592, 0.405004433022685, 0.40485265366796663, 0.4047010372917993, 0.4045495836390455, 0.40439829245506687, 0.40424716348572304, 0.4040961964773707, 0.4039453911768621, 0.4037947473315444, 0.4036442646892584, 0.4034939429983374, 0.40334378200760623, 0.4031937814663801, 0.4030439411244635, 0.4028942607321493, 0.40274474004021743, 0.4025953787999339, 0.40244617676305, 0.40229713368180064, 0.4021482493089039, 0.4019995233975596, 0.4018509557014484, 0.4017025459747307, 0.4015542939720455, 0.4014061994485095, 0.40125826215971594, 0.4011104818617337, 0.40096285831110595, 0.4008153912648494, 0.4006680804804532, 0.40052092571587783, 0.40037392672955413, 0.4002270832803821, 0.4000803951277302, 0.39993386203143383, 0.39978748375179496, 0.39964126004958045, 0.3994951906860216, 0.3993492754228124, 0.39920351402210935, 0.3990579062465299, 0.39891245185915164, 0.3987671506235111, 0.398622002303603, 0.39847700666387914, 0.39833216346924727, 0.39818747248507014, 0.3980429334771648, 0.397898546211801, 0.3977543104557008, 0.3976102259760373, 0.3974662925404335, 0.39732250991696166, 0.39717887787414197, 0.39703539618094175, 0.3968920646067746, 0.396748882921499, 0.3966058508954179, 0.3964629682992772, 0.39632023490426477, 0.39617765048201037, 0.3960352148045835, 0.3958929276444931, 0.3957507887746864, 0.3956087979685481, 0.39546695499989915, 0.39532525964299614, 0.39518371167252986, 0.395042310863625, 0.39490105699183853, 0.394759949833159, 0.39461898916400595, 0.3944781747612284, 0.39433750640210413, 0.39419698386433893, 0.39405660692606537, 0.393916375365842, 0.3937762889626525, 0.3936363474959043, 0.39349655074542855, 0.393356898491478, 0.3932173905147271, 0.3930780265962706, 0.3929388065176227, 0.392799730060716, 0.39266079700790085, 0.3925220071419443, 0.39238336024602893, 0.3922448561037525, 0.3921064944991264, 0.3919682752165754, 0.39183019804093616, 0.39169226275745667, 0.39155446915179515, 0.3914168170100192, 0.3912793061186051, 0.3911419362644368, 0.3910047072348046, 0.3908676188174051, 0.3907306708003395, 0.3905938629721133, 0.3904571951216349, 0.3903206670382151, 0.3901842785115664, 0.39004802933180116, 0.3899119192894321, 0.38977594817537004, 0.38964011578092417, 0.38950442189780055, 0.38936886631810125, 0.38923344883432365, 0.3890981692393597, 0.38896302732649485, 0.388828022889407, 0.38869315572216595, 0.3885584256192327, 0.38842383237545797, 0.38828937578608214, 0.38815505564673347, 0.38802087175342825, 0.3878868239025691, 0.38775291189094474, 0.3876191355157286, 0.38748549457447856, 0.38735198886513555, 0.38721861818602316, 0.38708538233584644, 0.3869522811136914, 0.3868193143190238, 0.3866864817516887, 0.3865537832119095, 0.3864212185002869, 0.3862887874177982, 0.38615648976579675, 0.3860243253460107, 0.3858922939605426, 0.38576039541186796, 0.38562862950283516, 0.3854969960366642, 0.38536549481694604, 0.3852341256476415, 0.385102888333081, 0.3849717826779633, 0.3848408084873548, 0.38470996556668874, 0.3845792537217646, 0.38444867275874695, 0.3843182224841649, 0.3841879027049112, 0.38405771322824156, 0.38392765386177363, 0.3837977244134864, 0.3836679246917195, 0.38353825450517215, 0.38340871366290247, 0.3832793019743267, 0.38315001924921865, 0.3830208652977085, 0.3828918399302823, 0.38276294295778124, 0.38263417419140044, 0.382505533442689, 0.38237702052354827, 0.38224863524623187, 0.38212037742334426, 0.3819922468678406, 0.3818642433930255, 0.3817363668125527, 0.3816086169404237, 0.38148099359098764, 0.3813534965789402, 0.3812261257193229, 0.3810988808275222, 0.38097176171926916, 0.38084476821063834, 0.38071790011804707, 0.38059115725825476, 0.3804645394483624, 0.38033804650581127, 0.38021167824838287, 0.3800854344941975, 0.37995931506171404, 0.37983331976972895, 0.3797074484373757, 0.3795817008841239, 0.37945607692977856, 0.3793305763944796, 0.3792051990987006, 0.37907994486324875, 0.37895481350926363, 0.3788298048582168, 0.37870491873191064, 0.3785801549524783, 0.3784555133423822, 0.37833099372441403, 0.3782065959216936, 0.37808231975766815, 0.3779581650561119, 0.3778341316411253, 0.3777102193371338, 0.37758642796888775, 0.37746275736146173, 0.3773392073402532, 0.37721577773098247, 0.3770924683596917, 0.37696927905274424, 0.3768462096368238, 0.3767232599389341, 0.37660042978639774, 0.37647771900685606, 0.3763551274282678, 0.376232654878909, 0.3761103011873718, 0.37598806618256425, 0.37586594969370934, 0.37574395155034407, 0.3756220715823195, 0.3755003096197994, 0.37537866549325993, 0.3752571390334887, 0.37513573007158424, 0.3750144384389556, 0.37489326396732103, 0.37477220648870807, 0.37465126583545216, 0.37453044184019657, 0.3744097343358913, 0.37428914315579287, 0.374168668133463, 0.37404830910276876, 0.3739280658978812, 0.3738079383532751, 0.3736879263037282, 0.37356802958432056, 0.37344824803043386, 0.37332858147775083, 0.3732090297622545, 0.3730895927202278, 0.37297027018825246, 0.37285106200320883, 0.3727319680022749, 0.37261298802292586, 0.37249412190293363, 0.37237536948036565, 0.3722567305935846, 0.372138205081248, 0.3720197927823073, 0.371901493536007, 0.37178330718188457, 0.37166523355976944, 0.3715472725097825, 0.37142942387233535, 0.3713116874881301, 0.37119406319815806, 0.37107655084369967, 0.37095915026632365, 0.3708418613078863, 0.3707246838105314, 0.37060761761668876, 0.37049066256907437, 0.3703738185106892, 0.37025708528481893, 0.3701404627350335, 0.370023950705186, 0.3699075490394124, 0.36979125758213094, 0.3696750761780413, 0.3695590046721243, 0.36944304290964125, 0.36932719073613296, 0.36921144799741956, 0.36909581453959994, 0.3689802902090509, 0.3688648748524264, 0.3687495683166576, 0.36863437044895175, 0.3685192810967915, 0.368404300107935, 0.3682894273304143, 0.36817466261253584, 0.3680600058028791, 0.3679454567502962, 0.36783101530391155, 0.367716681313121, 0.36760245462759134, 0.3674883350972599, 0.3673743225723336, 0.36726041690328864, 0.3671466179408701, 0.36703292553609085, 0.36691933954023154, 0.36680585980483943, 0.3666924861817286, 0.36657921852297853, 0.3664660566809341, 0.3663530005082051, 0.36624004985766495, 0.36612720458245107, 0.36601446453596365, 0.3659018295718653, 0.3657892995440807, 0.36567687430679563, 0.36556455371445673, 0.365452337621771, 0.3653402258837048, 0.3652282183554838, 0.3651163148925922, 0.3650045153507723, 0.3648928195860236, 0.3647812274546027, 0.36466973881302267, 0.36455835351805216, 0.36444707142671534, 0.364335892396291, 0.364224816284312, 0.3641138429485654, 0.36400297224709066, 0.3638922040381804, 0.36378153818037895, 0.3636709745324825, 0.36356051295353786, 0.36345015330284264, 0.36333989543994427, 0.3632297392246394, 0.3631196845169738, 0.3630097311772415, 0.3628998790659844, 0.36279012804399174, 0.3626804779722994, 0.3625709287121896, 0.3624614801251904, 0.36235213207307493, 0.362242884417861, 0.3621337370218109, 0.3620246897474303, 0.36191574245746816, 0.3618068950149161, 0.36169814728300775, 0.3615894991252186, 0.36148095040526507, 0.3613725009871043, 0.36126415073493334, 0.36115589951318927, 0.36104774718654775, 0.3609396936199235, 0.3608317386784689, 0.36072388222757423, 0.3606161241328669, 0.36050846426021066, 0.36040090247570555, 0.3602934386456871, 0.360186072636726, 0.36007880431562767, 0.3599716335494314, 0.35986456020541036, 0.35975758415107084, 0.35965070525415155, 0.35954392338262353, 0.35943723840468966, 0.35933065018878363, 0.3592241586035702, 0.3591177635179442, 0.3590114648010303, 0.3589052623221821, 0.35879915595098255, 0.3586931455572424, 0.3585872310110004, 0.3584814121825227, 0.35837568894230254, 0.3582700611610591, 0.3581645287097377, 0.35805909145950926, 0.35795374928176954, 0.35784850204813873, 0.3577433496304614, 0.3576382919008052, 0.3575333287314615, 0.35742845999494377, 0.35732368556398797, 0.3572190053115517, 0.3571144191108139, 0.3570099268351742, 0.3569055283582525, 0.35680122355388894, 0.3566970122961426, 0.356592894459292, 0.35648886991783374, 0.3563849385464828, 0.35628110022017156, 0.35617735481404966, 0.3560737022034835, 0.35597014226405554, 0.3558666748715642, 0.3557632999020232, 0.3556600172316612, 0.3555568267369211, 0.3554537282944602, 0.3553507217811492, 0.3552478070740718, 0.35514498405052447, 0.35504225258801597, 0.35493961256426687, 0.35483706385720903, 0.3547346063449854, 0.35463223990594916, 0.3545299644186637, 0.3544277797619022, 0.35432568581464663, 0.35422368245608815, 0.3541217695656259, 0.35401994702286704, 0.35391821470762636, 0.3538165724999254, 0.3537150202799924, 0.353613557928262, 0.3535121853253741, 0.3534109023521746, 0.3533097088897137, 0.35320860481924643, 0.3531075900222319, 0.35300666438033257, 0.35290582777541435, 0.3528050800895459, 0.3527044212049984, 0.35260385100424474, 0.3525033693699596, 0.3524029761850186, 0.35230267133249815, 0.3522024546956751, 0.3521023261580261, 0.3520022856032273, 0.3519023329151538, 0.3518024679778796, 0.3517026906756769, 0.3516030008930156, 0.35150339851456325, 0.3514038834251842, 0.3513044555099397, 0.3512051146540871, 0.3511058607430796, 0.35100669366256587, 0.3509076132983895, 0.35080861953658893, 0.35070971226339653, 0.35061089136523876, 0.35051215672873537, 0.35041350824069933, 0.350314945788136, 0.3502164692582431, 0.3501180785384105, 0.35001977351621893, 0.3499215540794407, 0.3498234201160387, 0.34972537151416594, 0.34962740816216553, 0.34952952994857006, 0.34943173676210115, 0.3493340284916692, 0.3492364050263731, 0.3491388662554996, 0.3490414120685231, 0.34894404235510507, 0.34884675700509404, 0.3487495559085249, 0.3486524389556185, 0.34855540603678137, 0.3484584570426056, 0.34836159186386806, 0.3482648103915301, 0.3481681125167374, 0.3480714981308194, 0.34797496712528886, 0.3478785193918418, 0.34778215482235686, 0.34768587330889483, 0.34758967474369873, 0.3474935590191931, 0.34739752602798346, 0.34730157566285647, 0.34720570781677906, 0.34710992238289834, 0.34701421925454123, 0.346918598325214, 0.3468230594886018, 0.3467276026385687, 0.3466322276691569, 0.3465369344745865, 0.3464417229492553, 0.3463465929877381, 0.3462515444847869, 0.34615657733532995, 0.34606169143447163, 0.34596688667749215, 0.34587216295984735, 0.3457775201771679, 0.34568295822525913, 0.34558847700010104, 0.34549407639784746, 0.3453997563148259, 0.3453055166475372, 0.3452113572926552, 0.3451172781470263, 0.3450232791076693, 0.34492936007177466, 0.3448355209367048, 0.344741761599993, 0.3446480819593437, 0.34455448191263177, 0.3444609613579023, 0.34436752019337014, 0.3442741583174199, 0.34418087562860517, 0.34408767202564844, 0.3439945474074406, 0.3439015016730409, 0.3438085347216763, 0.3437156464527412, 0.34362283676579725, 0.34353010556057284, 0.3434374527369629, 0.34334487819502846, 0.34325238183499635, 0.343159963557259, 0.34306762326237383]\n"
     ]
    }
   ],
   "source": [
    "N = 1000\n",
    "losses = []\n",
    "for i in range(N):\n",
    "    # Predict\n",
    "    yhat = predict_prob(X_train, W)\n",
    "    \n",
    "    # Calculate Loss\n",
    "    loss = binary_cross_entropy(y_train, yhat)\n",
    "    \n",
    "    # Compute gradient dL/dW\n",
    "    dW = compute_gradient(X_train, y_train, W)\n",
    "    \n",
    "    # Update the weights\n",
    "    W = W - alpha*dW\n",
    "    \n",
    "    losses.append(loss)\n",
    "\n",
    "print(len(losses))\n",
    "print(losses)"
   ]
  },
  {
   "cell_type": "markdown",
   "metadata": {},
   "source": [
    "### Plot the loss curve"
   ]
  },
  {
   "cell_type": "code",
   "execution_count": 15,
   "metadata": {
    "ExecuteTime": {
     "end_time": "2021-06-08T03:10:49.256637Z",
     "start_time": "2021-06-08T03:10:49.233Z"
    }
   },
   "outputs": [
    {
     "data": {
      "image/png": "[encoded data removed]",
      "text/plain": "<Figure size 432x288 with 1 Axes>"
     },
     "metadata": {
      "needs_background": "light",
      "transient": {}
     },
     "output_type": "display_data"
    }
   ],
   "source": [
    "# Loss curve here\n",
    "plt.plot(losses)\n",
    "plt.show()"
   ]
  },
  {
   "cell_type": "markdown",
   "metadata": {},
   "source": [
    "### Calculate the classification report and the confusion matrix"
   ]
  },
  {
   "cell_type": "code",
   "execution_count": 16,
   "metadata": {
    "ExecuteTime": {
     "end_time": "2021-06-09T13:03:52.812396Z",
     "start_time": "2021-06-09T13:03:52.804969Z"
    }
   },
   "outputs": [],
   "source": [
    "from sklearn.metrics import classification_report, confusion_matrix"
   ]
  },
  {
   "cell_type": "code",
   "execution_count": 17,
   "metadata": {},
   "outputs": [
    {
     "name": "stdout",
     "output_type": "stream",
     "text": [
      "              precision    recall  f1-score   support\n",
      "\n",
      "           0       0.94      0.89      0.92        19\n",
      "           1       0.95      0.97      0.96        38\n",
      "\n",
      "    accuracy                           0.95        57\n",
      "   macro avg       0.95      0.93      0.94        57\n",
      "weighted avg       0.95      0.95      0.95        57\n",
      "\n"
     ]
    },
    {
     "data": {
      "text/plain": "array([[17,  2],\n       [ 1, 37]])"
     },
     "execution_count": 17,
     "metadata": {},
     "output_type": "execute_result"
    }
   ],
   "source": [
    "# Scores here\n",
    "y_predict = predict(X_test, W)\n",
    "print(classification_report(y_test, y_predict))\n",
    "\n",
    "confusion_matrix(y_test, y_predict)"
   ]
  },
  {
   "cell_type": "markdown",
   "metadata": {},
   "source": [
    "# BONUS: Create a LogisticRegression Class [OPTIONAL]\n",
    "Create a Sklearn-like API"
   ]
  },
  {
   "cell_type": "code",
   "execution_count": 18,
   "metadata": {
    "ExecuteTime": {
     "end_time": "2021-06-08T03:10:49.363615Z",
     "start_time": "2021-06-08T03:10:49.359276Z"
    }
   },
   "outputs": [],
   "source": [
    "class LogisticRegression:\n",
    "    # You can define additional functions as per your need\n",
    "    def __init__(self, alpha=0.001, n_iter=1000):\n",
    "        self.W = None\n",
    "        self.alpha = alpha\n",
    "        self.n_iter = n_iter\n",
    "\n",
    "    def fit(self, X, y):\n",
    "        self.W = np.random.uniform(-1, 1, X.shape[1])\n",
    "        for i in range(self.n_iter):\n",
    "            # Compute gradient dL/dW\n",
    "            dW = np.dot(X.T, self.predict_proba(X)[0][0] - y) / (2 *X.shape[0])\n",
    "        \n",
    "            # Update the weights\n",
    "            self.W = self.W - self.alpha * dW\n",
    "\n",
    "    def predict_proba(self, X):\n",
    "        proba = sigmoid(np.matmul(X, self.W))\n",
    "        return np.array([proba, 1-proba]).T\n",
    "\n",
    "    def predict(self, X):\n",
    "        prob = self.predict_proba(X)\n",
    "        res = np.zeros(prob.shape[0])\n",
    "        for i in range(prob.shape[0]):\n",
    "            if prob[i][0] > 0.5:\n",
    "                res[i] =  1\n",
    "        return res  "
   ]
  },
  {
   "cell_type": "code",
   "execution_count": 19,
   "metadata": {},
   "outputs": [
    {
     "name": "stdout",
     "output_type": "stream",
     "text": [
      "(57, 2)\n"
     ]
    }
   ],
   "source": [
    "model = LogisticRegression()\n",
    "model.fit(X_train, y_train)\n",
    "predictions_proba = model.predict_proba(X_test)\n",
    "print(predictions_proba.shape)\n",
    "loss = binary_cross_entropy(y_test, predictions_proba)\n",
    "\n",
    "predictions = model.predict(X_test)\n"
   ]
  },
  {
   "cell_type": "markdown",
   "metadata": {},
   "source": [
    "### Compare metrics with Sklearn's implementation"
   ]
  },
  {
   "cell_type": "code",
   "execution_count": 20,
   "metadata": {
    "ExecuteTime": {
     "end_time": "2021-06-08T03:13:38.648135Z",
     "start_time": "2021-06-08T03:13:38.640657Z"
    }
   },
   "outputs": [],
   "source": [
    "from sklearn.linear_model import LogisticRegression as SKLogisticRegression"
   ]
  },
  {
   "cell_type": "code",
   "execution_count": 21,
   "metadata": {},
   "outputs": [],
   "source": [
    "sklearn_model = SKLogisticRegression()\n",
    "sklearn_model.fit(X_train, y_train)\n",
    "\n",
    "sklearn_predictions = sklearn_model.predict(X_test)\n",
    "\n",
    "sklearn_predictions_prob = sklearn_model.predict_proba(X_test)\n",
    "sklearn_loss = binary_cross_entropy(y_test, sklearn_predictions_prob)\n"
   ]
  },
  {
   "cell_type": "code",
   "execution_count": 22,
   "metadata": {},
   "outputs": [
    {
     "name": "stdout",
     "output_type": "stream",
     "text": [
      "Sklearn: [5.89253573 0.0814078 ]\n",
      "Ours: [1.7419279       inf]\n",
      "----------------------------------------------------------\n",
      "Classification Report for Sklearn:\n",
      "              precision    recall  f1-score   support\n",
      "\n",
      "           0       0.94      0.89      0.92        19\n",
      "           1       0.95      0.97      0.96        38\n",
      "\n",
      "    accuracy                           0.95        57\n",
      "   macro avg       0.95      0.93      0.94        57\n",
      "weighted avg       0.95      0.95      0.95        57\n",
      "\n",
      "----------------------------------------------------------\n",
      "Classification Report for Ours:\n",
      "              precision    recall  f1-score   support\n",
      "\n",
      "           0       0.49      1.00      0.66        19\n",
      "           1       1.00      0.47      0.64        38\n",
      "\n",
      "    accuracy                           0.65        57\n",
      "   macro avg       0.74      0.74      0.65        57\n",
      "weighted avg       0.83      0.65      0.65        57\n",
      "\n",
      "----------------------------------------------------------\n",
      "Confusion Matrix for Sklearn:\n",
      "[[17  2]\n",
      " [ 1 37]]\n",
      "----------------------------------------------------------\n",
      "Confusion Matrix for Ours:\n",
      "[[19  0]\n",
      " [20 18]]\n",
      "----------------------------------------------------------\n"
     ]
    }
   ],
   "source": [
    "### compare classification report and confusion matrix here\n",
    "print(f\"Sklearn: {sklearn_loss}\")\n",
    "print(f\"Ours: {loss}\")\n",
    "print(\"----------------------------------------------------------\")\n",
    "print(\"Classification Report for Sklearn:\")\n",
    "print(classification_report(y_test, sklearn_predictions))\n",
    "print(\"----------------------------------------------------------\")\n",
    "print(\"Classification Report for Ours:\")\n",
    "print(classification_report(y_test, predictions))\n",
    "print(\"----------------------------------------------------------\")\n",
    "print(\"Confusion Matrix for Sklearn:\")\n",
    "print(confusion_matrix(y_test, sklearn_predictions))\n",
    "print(\"----------------------------------------------------------\")\n",
    "print(\"Confusion Matrix for Ours:\")\n",
    "print(confusion_matrix(y_test, predictions))\n",
    "print(\"----------------------------------------------------------\")\n"
   ]
  }
 ],
 "metadata": {
  "kernelspec": {
   "display_name": "Python 3",
   "language": "python",
   "name": "python3"
  },
  "language_info": {
   "codemirror_mode": {
    "name": "ipython",
    "version": 3
   },
   "file_extension": ".py",
   "mimetype": "text/x-python",
   "name": "python",
   "nbconvert_exporter": "python",
   "pygments_lexer": "ipython3",
   "version": "3.9.5"
  },
  "toc": {
   "base_numbering": 1,
   "nav_menu": {},
   "number_sections": true,
   "sideBar": true,
   "skip_h1_title": false,
   "title_cell": "Table of Contents",
   "title_sidebar": "Contents",
   "toc_cell": false,
   "toc_position": {},
   "toc_section_display": true,
   "toc_window_display": false
  }
 },
 "nbformat": 4,
 "nbformat_minor": 4
}