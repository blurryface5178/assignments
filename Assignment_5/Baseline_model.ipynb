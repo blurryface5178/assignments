{
  "nbformat": 4,
  "nbformat_minor": 0,
  "metadata": {
    "colab": {
      "name": "Baseline model.ipynb",
      "provenance": [],
      "collapsed_sections": []
    },
    "kernelspec": {
      "display_name": "Python 3",
      "name": "python3"
    },
    "language_info": {
      "name": "python"
    }
  },
  "cells": [
    {
      "cell_type": "markdown",
      "metadata": {
        "id": "vJg4PEQYYExv"
      },
      "source": [
        "- Feature engineering\n",
        "- Feature selection\n",
        "- Hyperparameter tuning (random and grid search etc)\n",
        "- Evaluation scores\n",
        "- Presentation and documentation\n",
        "\n",
        "### You may refer to the code section on how other people are doing their analysis and baseline model building. The data for training is application_train.csv for training and the data for testing is application_test.csv for evaluation. The team formation is only for discussion and presentation purposes, you need to do all these tasks by yourself."
      ]
    },
    {
      "cell_type": "code",
      "metadata": {
        "id": "92pUIHOOIFv8",
        "colab": {
          "base_uri": "https://localhost:8080/"
        },
        "outputId": "215fc8d5-1f8d-43b0-ba4e-87ffd3502dbb"
      },
      "source": [
        "import matplotlib.pyplot as plt\n",
        "import pandas as pd\n",
        "import numpy as np\n",
        "import seaborn as sns\n",
        "from sklearn.preprocessing import LabelEncoder, MinMaxScaler\n",
        "from sklearn.impute import SimpleImputer\n",
        "from sklearn.linear_model import LogisticRegression\n",
        "\n",
        "from sklearn.model_selection import train_test_split\n",
        "from sklearn.metrics import roc_curve, roc_auc_score, auc, classification_report, confusion_matrix\n",
        "from sklearn.ensemble import RandomForestClassifier\n",
        "\n",
        "from imblearn.under_sampling import RandomUnderSampler"
      ],
      "execution_count": null,
      "outputs": [
        {
          "output_type": "stream",
          "text": [
            "/usr/local/lib/python3.7/dist-packages/sklearn/externals/six.py:31: FutureWarning: The module is deprecated in version 0.21 and will be removed in version 0.23 since we've dropped support for Python 2.7. Please rely on the official version of six (https://pypi.org/project/six/).\n",
            "  \"(https://pypi.org/project/six/).\", FutureWarning)\n",
            "/usr/local/lib/python3.7/dist-packages/sklearn/utils/deprecation.py:144: FutureWarning: The sklearn.neighbors.base module is  deprecated in version 0.22 and will be removed in version 0.24. The corresponding classes / functions should instead be imported from sklearn.neighbors. Anything that cannot be imported from sklearn.neighbors is now part of the private API.\n",
            "  warnings.warn(message, FutureWarning)\n"
          ],
          "name": "stderr"
        }
      ]
    },
    {
      "cell_type": "code",
      "metadata": {
        "colab": {
          "base_uri": "https://localhost:8080/"
        },
        "id": "NsPaVPqvII0g",
        "outputId": "20aa7af0-5c77-4ced-f79e-208c5ec366cd"
      },
      "source": [
        "from google.colab import drive\n",
        "drive.mount('/content/drive')"
      ],
      "execution_count": null,
      "outputs": [
        {
          "output_type": "stream",
          "text": [
            "Drive already mounted at /content/drive; to attempt to forcibly remount, call drive.mount(\"/content/drive\", force_remount=True).\n"
          ],
          "name": "stdout"
        }
      ]
    },
    {
      "cell_type": "code",
      "metadata": {
        "colab": {
          "base_uri": "https://localhost:8080/"
        },
        "id": "XFQnjVVfIJ4A",
        "outputId": "ee055036-1dd1-4211-c25e-482627e934c4"
      },
      "source": [
        "df = pd.read_csv('/content/drive/MyDrive/Colab Notebooks/application_train.csv')\n",
        "print(df.shape)\n",
        "\n",
        "y = df['TARGET']\n",
        "train_df = df.drop(columns = 'TARGET')\n"
      ],
      "execution_count": null,
      "outputs": [
        {
          "output_type": "stream",
          "text": [
            "(307511, 122)\n"
          ],
          "name": "stdout"
        }
      ]
    },
    {
      "cell_type": "markdown",
      "metadata": {
        "id": "OHbcRxEXxQ6o"
      },
      "source": [
        "# Undersampling"
      ]
    },
    {
      "cell_type": "code",
      "metadata": {
        "id": "WcJ4OhDoxQnZ"
      },
      "source": [
        "# rus = RandomUnderSampler(random_state=0)\n",
        "# train, y = rus.fit_resample(train, y_train)\n",
        "\n",
        "# print(train.shape, y.shape)"
      ],
      "execution_count": null,
      "outputs": []
    },
    {
      "cell_type": "markdown",
      "metadata": {
        "id": "u_0YgsB9ZRo6"
      },
      "source": [
        "# Encoding"
      ]
    },
    {
      "cell_type": "code",
      "metadata": {
        "colab": {
          "base_uri": "https://localhost:8080/"
        },
        "id": "aGi-2dxOX_1I",
        "outputId": "7a6a16f3-c105-4c86-d629-a585134ed07a"
      },
      "source": [
        "# Create a label encoder object\n",
        "le = LabelEncoder()\n",
        "le_count = 0\n",
        "\n",
        "# Iterate through the columns\n",
        "for col in train_df:\n",
        "    if train_df[col].dtype == 'object':\n",
        "        # If 2 or fewer unique categories\n",
        "        if len(list(train_df[col].unique())) <= 2:\n",
        "            # Train on the training data\n",
        "            le.fit(train_df[col])\n",
        "            \n",
        "            # Transform both training and testing data\n",
        "            train_df[col] = le.transform(train_df[col])\n",
        "            \n",
        "            # Keep track of how many columns were label encoded\n",
        "            le_count += 1\n",
        "            \n",
        "print('%d columns were label encoded.' % le_count)\n",
        "\n",
        "train_df = pd.get_dummies(train_df)\n",
        "\n",
        "print('Train set shape after dummies:', train_df.shape)\n"
      ],
      "execution_count": null,
      "outputs": [
        {
          "output_type": "stream",
          "text": [
            "3 columns were label encoded.\n",
            "Train set shape after dummies: (307511, 242)\n"
          ],
          "name": "stdout"
        }
      ]
    },
    {
      "cell_type": "markdown",
      "metadata": {
        "id": "gn0zuI8ahsy9"
      },
      "source": [
        "# Anomality Reduction"
      ]
    },
    {
      "cell_type": "code",
      "metadata": {
        "id": "eEIrClWUh2q_"
      },
      "source": [
        "# Create an anomalous flag column\n",
        "train_df['DAYS_EMPLOYED_ANOM'] = train_df[\"DAYS_EMPLOYED\"] == 365243\n",
        "\n",
        "# Replace the anomalous values with nan\n",
        "train_df['DAYS_EMPLOYED'].replace({365243: np.nan}, inplace = True)\n"
      ],
      "execution_count": null,
      "outputs": []
    },
    {
      "cell_type": "code",
      "metadata": {
        "colab": {
          "base_uri": "https://localhost:8080/",
          "height": 312
        },
        "id": "QfV38GwIwGKN",
        "outputId": "b3ed4bfa-cc61-414a-daaa-af86f5259f3e"
      },
      "source": [
        "train_df, test_df, y_train, y_test = train_test_split(train_df, y, test_size=0.33, random_state=42)\n",
        "\n",
        "train_df.insert(1, 'TARGET', y_train)\n",
        "test_df.insert(1, 'TARGET', y_test)\n",
        "\n",
        "test_original_X = test_df.copy()\n",
        "test_original_Y = y_test.copy()\n",
        "\n",
        "print(train_df.shape)\n",
        "print(test_df.shape)\n",
        "\n",
        "# test_df = pd.read_csv('/content/drive/MyDrive/Colab Notebooks/application_test.csv')\n",
        "# print(test_df.shape)\n",
        "\n",
        "train_df.head()"
      ],
      "execution_count": null,
      "outputs": [
        {
          "output_type": "stream",
          "text": [
            "(206032, 244)\n",
            "(101479, 244)\n"
          ],
          "name": "stdout"
        },
        {
          "output_type": "execute_result",
          "data": {
            "text/html": [
              "<div>\n",
              "<style scoped>\n",
              "    .dataframe tbody tr th:only-of-type {\n",
              "        vertical-align: middle;\n",
              "    }\n",
              "\n",
              "    .dataframe tbody tr th {\n",
              "        vertical-align: top;\n",
              "    }\n",
              "\n",
              "    .dataframe thead th {\n",
              "        text-align: right;\n",
              "    }\n",
              "</style>\n",
              "<table border=\"1\" class=\"dataframe\">\n",
              "  <thead>\n",
              "    <tr style=\"text-align: right;\">\n",
              "      <th></th>\n",
              "      <th>SK_ID_CURR</th>\n",
              "      <th>TARGET</th>\n",
              "      <th>NAME_CONTRACT_TYPE</th>\n",
              "      <th>FLAG_OWN_CAR</th>\n",
              "      <th>FLAG_OWN_REALTY</th>\n",
              "      <th>CNT_CHILDREN</th>\n",
              "      <th>AMT_INCOME_TOTAL</th>\n",
              "      <th>AMT_CREDIT</th>\n",
              "      <th>AMT_ANNUITY</th>\n",
              "      <th>AMT_GOODS_PRICE</th>\n",
              "      <th>REGION_POPULATION_RELATIVE</th>\n",
              "      <th>DAYS_BIRTH</th>\n",
              "      <th>DAYS_EMPLOYED</th>\n",
              "      <th>DAYS_REGISTRATION</th>\n",
              "      <th>DAYS_ID_PUBLISH</th>\n",
              "      <th>OWN_CAR_AGE</th>\n",
              "      <th>FLAG_MOBIL</th>\n",
              "      <th>FLAG_EMP_PHONE</th>\n",
              "      <th>FLAG_WORK_PHONE</th>\n",
              "      <th>FLAG_CONT_MOBILE</th>\n",
              "      <th>FLAG_PHONE</th>\n",
              "      <th>FLAG_EMAIL</th>\n",
              "      <th>CNT_FAM_MEMBERS</th>\n",
              "      <th>REGION_RATING_CLIENT</th>\n",
              "      <th>REGION_RATING_CLIENT_W_CITY</th>\n",
              "      <th>HOUR_APPR_PROCESS_START</th>\n",
              "      <th>REG_REGION_NOT_LIVE_REGION</th>\n",
              "      <th>REG_REGION_NOT_WORK_REGION</th>\n",
              "      <th>LIVE_REGION_NOT_WORK_REGION</th>\n",
              "      <th>REG_CITY_NOT_LIVE_CITY</th>\n",
              "      <th>REG_CITY_NOT_WORK_CITY</th>\n",
              "      <th>LIVE_CITY_NOT_WORK_CITY</th>\n",
              "      <th>EXT_SOURCE_1</th>\n",
              "      <th>EXT_SOURCE_2</th>\n",
              "      <th>EXT_SOURCE_3</th>\n",
              "      <th>APARTMENTS_AVG</th>\n",
              "      <th>BASEMENTAREA_AVG</th>\n",
              "      <th>YEARS_BEGINEXPLUATATION_AVG</th>\n",
              "      <th>YEARS_BUILD_AVG</th>\n",
              "      <th>COMMONAREA_AVG</th>\n",
              "      <th>...</th>\n",
              "      <th>ORGANIZATION_TYPE_Postal</th>\n",
              "      <th>ORGANIZATION_TYPE_Realtor</th>\n",
              "      <th>ORGANIZATION_TYPE_Religion</th>\n",
              "      <th>ORGANIZATION_TYPE_Restaurant</th>\n",
              "      <th>ORGANIZATION_TYPE_School</th>\n",
              "      <th>ORGANIZATION_TYPE_Security</th>\n",
              "      <th>ORGANIZATION_TYPE_Security Ministries</th>\n",
              "      <th>ORGANIZATION_TYPE_Self-employed</th>\n",
              "      <th>ORGANIZATION_TYPE_Services</th>\n",
              "      <th>ORGANIZATION_TYPE_Telecom</th>\n",
              "      <th>ORGANIZATION_TYPE_Trade: type 1</th>\n",
              "      <th>ORGANIZATION_TYPE_Trade: type 2</th>\n",
              "      <th>ORGANIZATION_TYPE_Trade: type 3</th>\n",
              "      <th>ORGANIZATION_TYPE_Trade: type 4</th>\n",
              "      <th>ORGANIZATION_TYPE_Trade: type 5</th>\n",
              "      <th>ORGANIZATION_TYPE_Trade: type 6</th>\n",
              "      <th>ORGANIZATION_TYPE_Trade: type 7</th>\n",
              "      <th>ORGANIZATION_TYPE_Transport: type 1</th>\n",
              "      <th>ORGANIZATION_TYPE_Transport: type 2</th>\n",
              "      <th>ORGANIZATION_TYPE_Transport: type 3</th>\n",
              "      <th>ORGANIZATION_TYPE_Transport: type 4</th>\n",
              "      <th>ORGANIZATION_TYPE_University</th>\n",
              "      <th>ORGANIZATION_TYPE_XNA</th>\n",
              "      <th>FONDKAPREMONT_MODE_not specified</th>\n",
              "      <th>FONDKAPREMONT_MODE_org spec account</th>\n",
              "      <th>FONDKAPREMONT_MODE_reg oper account</th>\n",
              "      <th>FONDKAPREMONT_MODE_reg oper spec account</th>\n",
              "      <th>HOUSETYPE_MODE_block of flats</th>\n",
              "      <th>HOUSETYPE_MODE_specific housing</th>\n",
              "      <th>HOUSETYPE_MODE_terraced house</th>\n",
              "      <th>WALLSMATERIAL_MODE_Block</th>\n",
              "      <th>WALLSMATERIAL_MODE_Mixed</th>\n",
              "      <th>WALLSMATERIAL_MODE_Monolithic</th>\n",
              "      <th>WALLSMATERIAL_MODE_Others</th>\n",
              "      <th>WALLSMATERIAL_MODE_Panel</th>\n",
              "      <th>WALLSMATERIAL_MODE_Stone, brick</th>\n",
              "      <th>WALLSMATERIAL_MODE_Wooden</th>\n",
              "      <th>EMERGENCYSTATE_MODE_No</th>\n",
              "      <th>EMERGENCYSTATE_MODE_Yes</th>\n",
              "      <th>DAYS_EMPLOYED_ANOM</th>\n",
              "    </tr>\n",
              "  </thead>\n",
              "  <tbody>\n",
              "    <tr>\n",
              "      <th>290720</th>\n",
              "      <td>436794</td>\n",
              "      <td>0</td>\n",
              "      <td>0</td>\n",
              "      <td>0</td>\n",
              "      <td>1</td>\n",
              "      <td>0</td>\n",
              "      <td>180000.0</td>\n",
              "      <td>835380.0</td>\n",
              "      <td>33259.5</td>\n",
              "      <td>675000.0</td>\n",
              "      <td>0.018029</td>\n",
              "      <td>-17253</td>\n",
              "      <td>-4267.0</td>\n",
              "      <td>-5321.0</td>\n",
              "      <td>-762</td>\n",
              "      <td>NaN</td>\n",
              "      <td>1</td>\n",
              "      <td>1</td>\n",
              "      <td>0</td>\n",
              "      <td>1</td>\n",
              "      <td>0</td>\n",
              "      <td>0</td>\n",
              "      <td>2.0</td>\n",
              "      <td>3</td>\n",
              "      <td>3</td>\n",
              "      <td>12</td>\n",
              "      <td>0</td>\n",
              "      <td>0</td>\n",
              "      <td>0</td>\n",
              "      <td>0</td>\n",
              "      <td>0</td>\n",
              "      <td>0</td>\n",
              "      <td>0.682599</td>\n",
              "      <td>0.431879</td>\n",
              "      <td>0.165407</td>\n",
              "      <td>NaN</td>\n",
              "      <td>NaN</td>\n",
              "      <td>NaN</td>\n",
              "      <td>NaN</td>\n",
              "      <td>NaN</td>\n",
              "      <td>...</td>\n",
              "      <td>0</td>\n",
              "      <td>0</td>\n",
              "      <td>0</td>\n",
              "      <td>0</td>\n",
              "      <td>0</td>\n",
              "      <td>0</td>\n",
              "      <td>0</td>\n",
              "      <td>0</td>\n",
              "      <td>0</td>\n",
              "      <td>0</td>\n",
              "      <td>0</td>\n",
              "      <td>0</td>\n",
              "      <td>0</td>\n",
              "      <td>0</td>\n",
              "      <td>0</td>\n",
              "      <td>0</td>\n",
              "      <td>0</td>\n",
              "      <td>0</td>\n",
              "      <td>0</td>\n",
              "      <td>0</td>\n",
              "      <td>0</td>\n",
              "      <td>0</td>\n",
              "      <td>0</td>\n",
              "      <td>0</td>\n",
              "      <td>0</td>\n",
              "      <td>0</td>\n",
              "      <td>0</td>\n",
              "      <td>0</td>\n",
              "      <td>0</td>\n",
              "      <td>0</td>\n",
              "      <td>0</td>\n",
              "      <td>0</td>\n",
              "      <td>0</td>\n",
              "      <td>0</td>\n",
              "      <td>0</td>\n",
              "      <td>0</td>\n",
              "      <td>0</td>\n",
              "      <td>0</td>\n",
              "      <td>0</td>\n",
              "      <td>False</td>\n",
              "    </tr>\n",
              "    <tr>\n",
              "      <th>219406</th>\n",
              "      <td>354174</td>\n",
              "      <td>0</td>\n",
              "      <td>0</td>\n",
              "      <td>1</td>\n",
              "      <td>1</td>\n",
              "      <td>0</td>\n",
              "      <td>225000.0</td>\n",
              "      <td>1256400.0</td>\n",
              "      <td>40657.5</td>\n",
              "      <td>900000.0</td>\n",
              "      <td>0.010556</td>\n",
              "      <td>-20050</td>\n",
              "      <td>-9003.0</td>\n",
              "      <td>-5354.0</td>\n",
              "      <td>-3525</td>\n",
              "      <td>31.0</td>\n",
              "      <td>1</td>\n",
              "      <td>1</td>\n",
              "      <td>0</td>\n",
              "      <td>1</td>\n",
              "      <td>0</td>\n",
              "      <td>0</td>\n",
              "      <td>2.0</td>\n",
              "      <td>3</td>\n",
              "      <td>3</td>\n",
              "      <td>11</td>\n",
              "      <td>0</td>\n",
              "      <td>0</td>\n",
              "      <td>0</td>\n",
              "      <td>0</td>\n",
              "      <td>0</td>\n",
              "      <td>0</td>\n",
              "      <td>NaN</td>\n",
              "      <td>0.518029</td>\n",
              "      <td>NaN</td>\n",
              "      <td>0.0278</td>\n",
              "      <td>0.0466</td>\n",
              "      <td>0.9776</td>\n",
              "      <td>0.7552</td>\n",
              "      <td>NaN</td>\n",
              "      <td>...</td>\n",
              "      <td>0</td>\n",
              "      <td>0</td>\n",
              "      <td>0</td>\n",
              "      <td>0</td>\n",
              "      <td>0</td>\n",
              "      <td>0</td>\n",
              "      <td>0</td>\n",
              "      <td>0</td>\n",
              "      <td>0</td>\n",
              "      <td>0</td>\n",
              "      <td>0</td>\n",
              "      <td>0</td>\n",
              "      <td>0</td>\n",
              "      <td>0</td>\n",
              "      <td>0</td>\n",
              "      <td>0</td>\n",
              "      <td>0</td>\n",
              "      <td>0</td>\n",
              "      <td>0</td>\n",
              "      <td>0</td>\n",
              "      <td>0</td>\n",
              "      <td>0</td>\n",
              "      <td>0</td>\n",
              "      <td>0</td>\n",
              "      <td>0</td>\n",
              "      <td>1</td>\n",
              "      <td>0</td>\n",
              "      <td>1</td>\n",
              "      <td>0</td>\n",
              "      <td>0</td>\n",
              "      <td>0</td>\n",
              "      <td>0</td>\n",
              "      <td>0</td>\n",
              "      <td>0</td>\n",
              "      <td>0</td>\n",
              "      <td>0</td>\n",
              "      <td>1</td>\n",
              "      <td>1</td>\n",
              "      <td>0</td>\n",
              "      <td>False</td>\n",
              "    </tr>\n",
              "    <tr>\n",
              "      <th>238458</th>\n",
              "      <td>376164</td>\n",
              "      <td>0</td>\n",
              "      <td>0</td>\n",
              "      <td>0</td>\n",
              "      <td>1</td>\n",
              "      <td>1</td>\n",
              "      <td>225000.0</td>\n",
              "      <td>387144.0</td>\n",
              "      <td>30717.0</td>\n",
              "      <td>342000.0</td>\n",
              "      <td>0.046220</td>\n",
              "      <td>-13419</td>\n",
              "      <td>-968.0</td>\n",
              "      <td>-1303.0</td>\n",
              "      <td>-1049</td>\n",
              "      <td>NaN</td>\n",
              "      <td>1</td>\n",
              "      <td>1</td>\n",
              "      <td>0</td>\n",
              "      <td>1</td>\n",
              "      <td>0</td>\n",
              "      <td>1</td>\n",
              "      <td>2.0</td>\n",
              "      <td>1</td>\n",
              "      <td>1</td>\n",
              "      <td>11</td>\n",
              "      <td>0</td>\n",
              "      <td>1</td>\n",
              "      <td>1</td>\n",
              "      <td>0</td>\n",
              "      <td>0</td>\n",
              "      <td>0</td>\n",
              "      <td>0.510589</td>\n",
              "      <td>0.713355</td>\n",
              "      <td>0.454321</td>\n",
              "      <td>0.1026</td>\n",
              "      <td>0.0684</td>\n",
              "      <td>0.9771</td>\n",
              "      <td>0.6872</td>\n",
              "      <td>0.0232</td>\n",
              "      <td>...</td>\n",
              "      <td>0</td>\n",
              "      <td>0</td>\n",
              "      <td>0</td>\n",
              "      <td>0</td>\n",
              "      <td>0</td>\n",
              "      <td>0</td>\n",
              "      <td>0</td>\n",
              "      <td>0</td>\n",
              "      <td>0</td>\n",
              "      <td>0</td>\n",
              "      <td>0</td>\n",
              "      <td>0</td>\n",
              "      <td>0</td>\n",
              "      <td>0</td>\n",
              "      <td>0</td>\n",
              "      <td>0</td>\n",
              "      <td>0</td>\n",
              "      <td>0</td>\n",
              "      <td>0</td>\n",
              "      <td>0</td>\n",
              "      <td>0</td>\n",
              "      <td>0</td>\n",
              "      <td>0</td>\n",
              "      <td>0</td>\n",
              "      <td>0</td>\n",
              "      <td>0</td>\n",
              "      <td>0</td>\n",
              "      <td>1</td>\n",
              "      <td>0</td>\n",
              "      <td>0</td>\n",
              "      <td>0</td>\n",
              "      <td>0</td>\n",
              "      <td>0</td>\n",
              "      <td>0</td>\n",
              "      <td>0</td>\n",
              "      <td>1</td>\n",
              "      <td>0</td>\n",
              "      <td>1</td>\n",
              "      <td>0</td>\n",
              "      <td>False</td>\n",
              "    </tr>\n",
              "    <tr>\n",
              "      <th>189443</th>\n",
              "      <td>319651</td>\n",
              "      <td>0</td>\n",
              "      <td>0</td>\n",
              "      <td>0</td>\n",
              "      <td>0</td>\n",
              "      <td>0</td>\n",
              "      <td>180000.0</td>\n",
              "      <td>450000.0</td>\n",
              "      <td>33646.5</td>\n",
              "      <td>450000.0</td>\n",
              "      <td>0.026392</td>\n",
              "      <td>-19217</td>\n",
              "      <td>-7371.0</td>\n",
              "      <td>-5254.0</td>\n",
              "      <td>-2757</td>\n",
              "      <td>NaN</td>\n",
              "      <td>1</td>\n",
              "      <td>1</td>\n",
              "      <td>1</td>\n",
              "      <td>1</td>\n",
              "      <td>1</td>\n",
              "      <td>0</td>\n",
              "      <td>2.0</td>\n",
              "      <td>2</td>\n",
              "      <td>2</td>\n",
              "      <td>16</td>\n",
              "      <td>0</td>\n",
              "      <td>0</td>\n",
              "      <td>0</td>\n",
              "      <td>0</td>\n",
              "      <td>0</td>\n",
              "      <td>0</td>\n",
              "      <td>NaN</td>\n",
              "      <td>0.686872</td>\n",
              "      <td>0.736623</td>\n",
              "      <td>0.1485</td>\n",
              "      <td>NaN</td>\n",
              "      <td>0.9841</td>\n",
              "      <td>NaN</td>\n",
              "      <td>NaN</td>\n",
              "      <td>...</td>\n",
              "      <td>0</td>\n",
              "      <td>0</td>\n",
              "      <td>0</td>\n",
              "      <td>0</td>\n",
              "      <td>0</td>\n",
              "      <td>0</td>\n",
              "      <td>0</td>\n",
              "      <td>0</td>\n",
              "      <td>0</td>\n",
              "      <td>0</td>\n",
              "      <td>0</td>\n",
              "      <td>0</td>\n",
              "      <td>0</td>\n",
              "      <td>0</td>\n",
              "      <td>0</td>\n",
              "      <td>0</td>\n",
              "      <td>0</td>\n",
              "      <td>0</td>\n",
              "      <td>0</td>\n",
              "      <td>0</td>\n",
              "      <td>0</td>\n",
              "      <td>0</td>\n",
              "      <td>0</td>\n",
              "      <td>0</td>\n",
              "      <td>0</td>\n",
              "      <td>0</td>\n",
              "      <td>0</td>\n",
              "      <td>1</td>\n",
              "      <td>0</td>\n",
              "      <td>0</td>\n",
              "      <td>0</td>\n",
              "      <td>0</td>\n",
              "      <td>0</td>\n",
              "      <td>0</td>\n",
              "      <td>1</td>\n",
              "      <td>0</td>\n",
              "      <td>0</td>\n",
              "      <td>1</td>\n",
              "      <td>0</td>\n",
              "      <td>False</td>\n",
              "    </tr>\n",
              "    <tr>\n",
              "      <th>32184</th>\n",
              "      <td>137317</td>\n",
              "      <td>0</td>\n",
              "      <td>0</td>\n",
              "      <td>0</td>\n",
              "      <td>1</td>\n",
              "      <td>0</td>\n",
              "      <td>108000.0</td>\n",
              "      <td>288873.0</td>\n",
              "      <td>14179.5</td>\n",
              "      <td>238500.0</td>\n",
              "      <td>0.003813</td>\n",
              "      <td>-21789</td>\n",
              "      <td>NaN</td>\n",
              "      <td>-1508.0</td>\n",
              "      <td>-4151</td>\n",
              "      <td>NaN</td>\n",
              "      <td>1</td>\n",
              "      <td>0</td>\n",
              "      <td>0</td>\n",
              "      <td>1</td>\n",
              "      <td>0</td>\n",
              "      <td>0</td>\n",
              "      <td>2.0</td>\n",
              "      <td>2</td>\n",
              "      <td>2</td>\n",
              "      <td>10</td>\n",
              "      <td>0</td>\n",
              "      <td>0</td>\n",
              "      <td>0</td>\n",
              "      <td>0</td>\n",
              "      <td>0</td>\n",
              "      <td>0</td>\n",
              "      <td>0.544829</td>\n",
              "      <td>0.149870</td>\n",
              "      <td>0.528093</td>\n",
              "      <td>NaN</td>\n",
              "      <td>NaN</td>\n",
              "      <td>NaN</td>\n",
              "      <td>NaN</td>\n",
              "      <td>NaN</td>\n",
              "      <td>...</td>\n",
              "      <td>0</td>\n",
              "      <td>0</td>\n",
              "      <td>0</td>\n",
              "      <td>0</td>\n",
              "      <td>0</td>\n",
              "      <td>0</td>\n",
              "      <td>0</td>\n",
              "      <td>0</td>\n",
              "      <td>0</td>\n",
              "      <td>0</td>\n",
              "      <td>0</td>\n",
              "      <td>0</td>\n",
              "      <td>0</td>\n",
              "      <td>0</td>\n",
              "      <td>0</td>\n",
              "      <td>0</td>\n",
              "      <td>0</td>\n",
              "      <td>0</td>\n",
              "      <td>0</td>\n",
              "      <td>0</td>\n",
              "      <td>0</td>\n",
              "      <td>0</td>\n",
              "      <td>1</td>\n",
              "      <td>0</td>\n",
              "      <td>0</td>\n",
              "      <td>0</td>\n",
              "      <td>0</td>\n",
              "      <td>0</td>\n",
              "      <td>0</td>\n",
              "      <td>0</td>\n",
              "      <td>0</td>\n",
              "      <td>0</td>\n",
              "      <td>0</td>\n",
              "      <td>0</td>\n",
              "      <td>0</td>\n",
              "      <td>0</td>\n",
              "      <td>0</td>\n",
              "      <td>0</td>\n",
              "      <td>0</td>\n",
              "      <td>True</td>\n",
              "    </tr>\n",
              "  </tbody>\n",
              "</table>\n",
              "<p>5 rows × 244 columns</p>\n",
              "</div>"
            ],
            "text/plain": [
              "        SK_ID_CURR  TARGET  ...  EMERGENCYSTATE_MODE_Yes  DAYS_EMPLOYED_ANOM\n",
              "290720      436794       0  ...                        0               False\n",
              "219406      354174       0  ...                        0               False\n",
              "238458      376164       0  ...                        0               False\n",
              "189443      319651       0  ...                        0               False\n",
              "32184       137317       0  ...                        0                True\n",
              "\n",
              "[5 rows x 244 columns]"
            ]
          },
          "metadata": {
            "tags": []
          },
          "execution_count": 6
        }
      ]
    },
    {
      "cell_type": "markdown",
      "metadata": {
        "id": "uZEWuZhxg9FF"
      },
      "source": [
        "# Aligning"
      ]
    },
    {
      "cell_type": "code",
      "metadata": {
        "colab": {
          "base_uri": "https://localhost:8080/"
        },
        "id": "vw3_E2hBbtUg",
        "outputId": "84027e64-61cb-4b63-f634-ffb44eb89f17"
      },
      "source": [
        "train_labels = train_df['TARGET']\n",
        "\n",
        "# Align the training and testing data, keep only columns present in both dataframes\n",
        "train_df, test_df = train_df.align(test_df, join = 'inner', axis = 1)\n",
        "\n",
        "# Add the target back in\n",
        "train_df['TARGET'] = train_labels\n",
        "\n",
        "print('Training Features shape: ', train_df.shape)\n",
        "print('Testing Features shape: ', test_df.shape)"
      ],
      "execution_count": null,
      "outputs": [
        {
          "output_type": "stream",
          "text": [
            "Training Features shape:  (206032, 244)\n",
            "Testing Features shape:  (101479, 244)\n"
          ],
          "name": "stdout"
        }
      ]
    },
    {
      "cell_type": "markdown",
      "metadata": {
        "id": "PCfhAfTLwLAz"
      },
      "source": [
        "# Baseline with logistic regression"
      ]
    },
    {
      "cell_type": "code",
      "metadata": {
        "colab": {
          "base_uri": "https://localhost:8080/"
        },
        "id": "ExmOlPbEwPZN",
        "outputId": "a8353c83-ad1f-49fb-c1a3-d997dbba57b0"
      },
      "source": [
        "# Drop the target from the training data\n",
        "train = train_df.drop(columns = ['TARGET'])\n",
        "test_df = test_df.drop(columns = ['TARGET'])\n",
        "    \n",
        "# Feature names\n",
        "features = list(train.columns)\n",
        "\n",
        "# Copy of the testing data\n",
        "test = test_df.copy()\n",
        "\n",
        "# Median imputation of missing values\n",
        "imputer = SimpleImputer(strategy = 'median')\n",
        "\n",
        "# Scale each feature to 0-1\n",
        "scaler = MinMaxScaler(feature_range = (0, 1))\n",
        "\n",
        "# Fit on the training data\n",
        "imputer.fit(train)\n",
        "\n",
        "# Transform both training and testing data\n",
        "train = imputer.transform(train)\n",
        "test = imputer.transform(test)\n",
        "\n",
        "# Repeat with the scaler\n",
        "scaler.fit(train)\n",
        "train = scaler.transform(train)\n",
        "test = scaler.transform(test)\n",
        "\n",
        "print('Training data shape: ', train.shape)\n",
        "print('Testing data shape: ', test.shape)"
      ],
      "execution_count": null,
      "outputs": [
        {
          "output_type": "stream",
          "text": [
            "Training data shape:  (206032, 243)\n",
            "Testing data shape:  (101479, 243)\n"
          ],
          "name": "stdout"
        }
      ]
    },
    {
      "cell_type": "code",
      "metadata": {
        "id": "WrDn9XxexgKh"
      },
      "source": [
        "# Make the model with the specified regularization parameter\n",
        "log_reg = LogisticRegression(C = 0.0001)\n",
        "\n",
        "# Train on the training data\n",
        "y_score = log_reg.fit(train, train_labels)"
      ],
      "execution_count": null,
      "outputs": []
    },
    {
      "cell_type": "code",
      "metadata": {
        "colab": {
          "base_uri": "https://localhost:8080/"
        },
        "id": "CBTcmvXVxqZr",
        "outputId": "3febc888-5ddf-4ef3-dc48-94c957d5eac5"
      },
      "source": [
        "# Make predictions\n",
        "# Make sure to select the second column only\n",
        "log_reg_pred = log_reg.predict_proba(test)[:,1]\n",
        "print(log_reg_pred)\n",
        "\n",
        "log_reg_y = log_reg.predict(test)\n",
        "print(log_reg_y)"
      ],
      "execution_count": null,
      "outputs": [
        {
          "output_type": "stream",
          "text": [
            "[0.10669516 0.06811094 0.09358385 ... 0.09939854 0.09808436 0.07792939]\n",
            "[0 0 0 ... 0 0 0]\n"
          ],
          "name": "stdout"
        }
      ]
    },
    {
      "cell_type": "markdown",
      "metadata": {
        "id": "SVD8icpKdiaH"
      },
      "source": [
        "# Random Forest"
      ]
    },
    {
      "cell_type": "code",
      "metadata": {
        "colab": {
          "base_uri": "https://localhost:8080/"
        },
        "id": "2T4s7nJxdRaF",
        "outputId": "52784dee-3d3b-439b-9947-9a0aa27841c7"
      },
      "source": [
        "random_forest = RandomForestClassifier(n_estimators = 100)\n",
        "\n",
        "# Train on the training data\n",
        "random_forest.fit(train, train_labels)"
      ],
      "execution_count": null,
      "outputs": [
        {
          "output_type": "execute_result",
          "data": {
            "text/plain": [
              "RandomForestClassifier(bootstrap=True, ccp_alpha=0.0, class_weight=None,\n",
              "                       criterion='gini', max_depth=None, max_features='auto',\n",
              "                       max_leaf_nodes=None, max_samples=None,\n",
              "                       min_impurity_decrease=0.0, min_impurity_split=None,\n",
              "                       min_samples_leaf=1, min_samples_split=2,\n",
              "                       min_weight_fraction_leaf=0.0, n_estimators=100,\n",
              "                       n_jobs=None, oob_score=False, random_state=None,\n",
              "                       verbose=0, warm_start=False)"
            ]
          },
          "metadata": {
            "tags": []
          },
          "execution_count": 19
        }
      ]
    },
    {
      "cell_type": "code",
      "metadata": {
        "colab": {
          "base_uri": "https://localhost:8080/"
        },
        "id": "Y3qhwGwPI8PQ",
        "outputId": "1597b216-05e2-491e-a012-611ab1b761dc"
      },
      "source": [
        "# Make predictions on the test data\n",
        "desc_tree_pred = random_forest.predict_proba(test)[:,1]\n",
        "print(desc_tree_pred)\n",
        "\n",
        "desc_tree_y = random_forest.predict(test)\n",
        "print(desc_tree_y)"
      ],
      "execution_count": null,
      "outputs": [
        {
          "output_type": "stream",
          "text": [
            "[0.27 0.07 0.09 ... 0.13 0.15 0.01]\n",
            "[0 0 0 ... 0 0 0]\n"
          ],
          "name": "stdout"
        }
      ]
    },
    {
      "cell_type": "markdown",
      "metadata": {
        "id": "iiAx4xzzuizn"
      },
      "source": [
        "# Confusion Matrix"
      ]
    },
    {
      "cell_type": "code",
      "metadata": {
        "colab": {
          "base_uri": "https://localhost:8080/",
          "height": 556
        },
        "id": "19Jcad-NuiIF",
        "outputId": "7534dcb1-5e46-4737-e7b0-501a70d3dac7"
      },
      "source": [
        "print(classification_report(y_test, log_reg_y))\n",
        "print(confusion_matrix(y_test, log_reg_y))\n",
        "\n",
        "sns.heatmap(confusion_matrix(y_test, log_reg_y), annot=True)"
      ],
      "execution_count": null,
      "outputs": [
        {
          "output_type": "stream",
          "text": [
            "              precision    recall  f1-score   support\n",
            "\n",
            "           0       0.92      1.00      0.96     93362\n",
            "           1       0.00      0.00      0.00      8117\n",
            "\n",
            "    accuracy                           0.92    101479\n",
            "   macro avg       0.46      0.50      0.48    101479\n",
            "weighted avg       0.85      0.92      0.88    101479\n",
            "\n"
          ],
          "name": "stdout"
        },
        {
          "output_type": "stream",
          "text": [
            "/usr/local/lib/python3.7/dist-packages/sklearn/metrics/_classification.py:1272: UndefinedMetricWarning: Precision and F-score are ill-defined and being set to 0.0 in labels with no predicted samples. Use `zero_division` parameter to control this behavior.\n",
            "  _warn_prf(average, modifier, msg_start, len(result))\n"
          ],
          "name": "stderr"
        },
        {
          "output_type": "stream",
          "text": [
            "[[93362     0]\n",
            " [ 8117     0]]\n"
          ],
          "name": "stdout"
        },
        {
          "output_type": "execute_result",
          "data": {
            "text/plain": [
              "<matplotlib.axes._subplots.AxesSubplot at 0x7f80c1d0a5d0>"
            ]
          },
          "metadata": {
            "tags": []
          },
          "execution_count": 21
        },
        {
          "output_type": "display_data",
          "data": {
            "image/png": "[encoded data removed]",
            "text/plain": [
              "<Figure size 432x288 with 2 Axes>"
            ]
          },
          "metadata": {
            "tags": [],
            "needs_background": "light"
          }
        }
      ]
    },
    {
      "cell_type": "code",
      "metadata": {
        "colab": {
          "base_uri": "https://localhost:8080/"
        },
        "id": "cbPnc2KPI2nV",
        "outputId": "cb24d15c-8fda-42fe-fe88-cb42f3cc3b7d"
      },
      "source": [
        "print(classification_report(y_test, desc_tree_y))\n",
        "print(confusion_matrix(y_test, desc_tree_y))\n",
        "\n",
        "sns.heatmap(confusion_matrix(y_test, desc_tree_y), annot=True)"
      ],
      "execution_count": null,
      "outputs": [
        {
          "output_type": "stream",
          "text": [
            "              precision    recall  f1-score   support\n",
            "\n",
            "           0       0.92      1.00      0.96     93362\n",
            "           1       0.70      0.00      0.00      8117\n",
            "\n",
            "    accuracy                           0.92    101479\n",
            "   macro avg       0.81      0.50      0.48    101479\n",
            "weighted avg       0.90      0.92      0.88    101479\n",
            "\n",
            "[[93359     3]\n",
            " [ 8110     7]]\n"
          ],
          "name": "stdout"
        },
        {
          "output_type": "execute_result",
          "data": {
            "text/plain": [
              "<matplotlib.axes._subplots.AxesSubplot at 0x7f80b7e98150>"
            ]
          },
          "metadata": {
            "tags": []
          },
          "execution_count": 22
        },
        {
          "output_type": "display_data",
          "data": {
            "image/png": "[encoded data removed]",
            "text/plain": [
              "<Figure size 432x288 with 2 Axes>"
            ]
          },
          "metadata": {
            "tags": [],
            "needs_background": "light"
          }
        }
      ]
    },
    {
      "cell_type": "markdown",
      "metadata": {
        "id": "3wRmTdHPg6Wm"
      },
      "source": [
        "# ROC Curve for Logistic and Random Forest"
      ]
    },
    {
      "cell_type": "code",
      "metadata": {
        "colab": {
          "base_uri": "https://localhost:8080/",
          "height": 295
        },
        "id": "EKpwOeiW3yv9",
        "outputId": "8432df03-b71f-48d7-afa3-15e885be2097"
      },
      "source": [
        "# Compute ROC curve and ROC area for each class\n",
        "fpr_log, tpr_log, _ = roc_curve(y_test, log_reg_pred)\n",
        "roc_auc_log = auc(fpr_log, tpr_log)\n",
        "\n",
        "fpr_tree, tpr_tree, _ = roc_curve(y_test, desc_tree_pred)\n",
        "roc_auc_tree = auc(fpr_tree, tpr_tree)\n",
        "\n",
        "plt.figure()\n",
        "plt.plot(fpr_log, tpr_log, color='darkorange',label='ROC curve (logistic)')\n",
        "plt.plot(fpr_tree, tpr_tree, color='navy',label='ROC curve (random forest)')\n",
        "plt.plot([0, 1], [0, 1], color='red', linestyle='--', label='')\n",
        "plt.xlim([0.0, 1.0])\n",
        "plt.ylim([0.0, 1.05])\n",
        "plt.xlabel('False Positive Rate')\n",
        "plt.ylabel('True Positive Rate')\n",
        "plt.title('Receiver operating characteristic example')\n",
        "plt.legend(loc=\"lower right\")\n",
        "plt.show()"
      ],
      "execution_count": null,
      "outputs": [
        {
          "output_type": "display_data",
          "data": {
            "image/png": "[encoded data removed]",
            "text/plain": [
              "<Figure size 432x288 with 1 Axes>"
            ]
          },
          "metadata": {
            "tags": [],
            "needs_background": "light"
          }
        }
      ]
    }
  ]
}